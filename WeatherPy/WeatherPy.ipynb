{
 "cells": [
  {
   "cell_type": "markdown",
   "metadata": {},
   "source": [
    "# WeatherPy\n",
    "----\n",
    "\n",
    "## Observations\n",
    "\n",
    "Observation: The % of cloudiness and humidity appear to be more randomly distributed across latitudes compared to Temparature and wind speed which are more closely related along varying latitudes. \n",
    "\n",
    "Observation: For northen hemisphere as you move further away from the 0 latitaude the temperature decreases. On the other hand, in the southern hempisphere, as you move closer to 0 latitude, the temperature increases.\n",
    "\n",
    "Observation: Wind speed has little to no variration across latitudes in teh northen hemisphere. However, it is slightly affected in the southern hemisphere. "
   ]
  },
  {
   "cell_type": "code",
   "execution_count": 1,
   "metadata": {
    "scrolled": true
   },
   "outputs": [],
   "source": [
    "# Dependencies and Setup\n",
    "import matplotlib.pyplot as plt\n",
    "import pandas as pd\n",
    "import numpy as np\n",
    "import requests\n",
    "import time\n",
    "from scipy.stats import linregress\n",
    "\n",
    "# Import API key\n",
    "from api_keys import weather_api_key\n",
    "temp_units = \"imperial\"\n",
    "\n",
    "# Incorporated citipy to determine city based on latitude and longitude\n",
    "from citipy import citipy\n",
    "\n",
    "# Output File (CSV)\n",
    "#output_data_file = \"output/weather_dataframe.csv\"\n",
    "output_data_file = \"output_data/cities.csv\"\n",
    "\n",
    "# Range of latitudes and longitudes\n",
    "lat_range = (-90, 90)\n",
    "lng_range = (-180, 180)\n"
   ]
  },
  {
   "cell_type": "markdown",
   "metadata": {},
   "source": [
    "## Generate Cities List"
   ]
  },
  {
   "cell_type": "code",
   "execution_count": 2,
   "metadata": {},
   "outputs": [
    {
     "data": {
      "text/plain": [
       "627"
      ]
     },
     "execution_count": 2,
     "metadata": {},
     "output_type": "execute_result"
    }
   ],
   "source": [
    "# List for holding lat_lngs and cities\n",
    "lat_lngs = []\n",
    "cities = []\n",
    "\n",
    "# Create a set of random lat and lng combinations\n",
    "lats = np.random.uniform(lat_range[0], lat_range[1], size=1500)\n",
    "lngs = np.random.uniform(lng_range[0], lng_range[1], size=1500)\n",
    "\n",
    "lat_lngs = zip(lats, lngs)\n",
    "\n",
    "# Identify nearest city for each lat, lng combination\n",
    "for lat_lng in lat_lngs:\n",
    "    city = citipy.nearest_city(lat_lng[0], lat_lng[1]).city_name\n",
    "    \n",
    "# If the city is unique, then add it to a our cities list\n",
    "    if city not in cities:\n",
    "        cities.append(city)\n",
    "\n",
    "# Print the city count to confirm sufficient count\n",
    "len(cities)\n"
   ]
  },
  {
   "cell_type": "markdown",
   "metadata": {},
   "source": [
    "### Perform API Calls\n",
    "* Perform a weather check on each city using a series of successive API calls.\n",
    "* Include a print log of each city as it'sbeing processed (with the city number and city name).\n"
   ]
  },
  {
   "cell_type": "code",
   "execution_count": 3,
   "metadata": {},
   "outputs": [
    {
     "name": "stdout",
     "output_type": "stream",
     "text": [
      "Processing Record 1 of Set 1 | talnakh\n",
      "Processing Record 2 of Set 1 | bluff\n",
      "Processing Record 3 of Set 1 | saskylakh\n",
      "Processing Record 4 of Set 1 | ostrovnoy\n",
      "Processing Record 5 of Set 1 | ushuaia\n",
      "Processing Record 6 of Set 1 | aswan\n",
      "Processing Record 7 of Set 1 | hatfield\n",
      "Processing Record 8 of Set 1 | westport\n",
      "Processing Record 9 of Set 1 | hasaki\n",
      "Processing Record 10 of Set 1 | rikitea\n",
      "Processing Record 11 of Set 1 | hilo\n",
      "Processing Record 12 of Set 1 | busselton\n",
      "Processing Record 13 of Set 1 | albany\n",
      "Processing Record 14 of Set 1 | hobart\n",
      "Processing Record 15 of Set 1 | valentin gomez farias\n",
      "Processing Record 16 of Set 1 | saint-philippe\n",
      "Processing Record 17 of Set 1 | malibu\n",
      "Processing Record 18 of Set 1 | atuona\n",
      "City not found. Skipping...\n",
      "Processing Record 19 of Set 1 | chokurdakh\n",
      "Processing Record 20 of Set 1 | vadso\n",
      "Processing Record 21 of Set 1 | vaini\n",
      "Processing Record 22 of Set 1 | carnarvon\n",
      "Processing Record 23 of Set 1 | cape town\n",
      "Processing Record 24 of Set 1 | avarua\n",
      "Processing Record 25 of Set 1 | ribeira grande\n",
      "Processing Record 26 of Set 1 | puerto escondido\n",
      "Processing Record 27 of Set 1 | zhezkazgan\n",
      "Processing Record 28 of Set 1 | qaanaaq\n",
      "Processing Record 29 of Set 1 | wanning\n",
      "Processing Record 30 of Set 1 | tambun\n",
      "Processing Record 31 of Set 1 | husavik\n",
      "Processing Record 32 of Set 1 | east london\n",
      "Processing Record 33 of Set 1 | saldanha\n",
      "Processing Record 34 of Set 1 | punta arenas\n",
      "Processing Record 35 of Set 1 | hobyo\n",
      "Processing Record 36 of Set 1 | comodoro rivadavia\n",
      "Processing Record 37 of Set 1 | micheweni\n",
      "Processing Record 38 of Set 1 | ko samui\n",
      "Processing Record 39 of Set 1 | upernavik\n",
      "Processing Record 40 of Set 1 | lebu\n",
      "City not found. Skipping...\n",
      "Processing Record 41 of Set 1 | wittmund\n",
      "Processing Record 42 of Set 1 | sokolskoye\n",
      "Processing Record 43 of Set 1 | butaritari\n",
      "Processing Record 44 of Set 1 | kodiak\n",
      "Processing Record 45 of Set 1 | nikolskoye\n",
      "Processing Record 46 of Set 1 | miles city\n",
      "Processing Record 47 of Set 1 | vestmannaeyjar\n",
      "City not found. Skipping...\n",
      "Processing Record 48 of Set 1 | adrar\n",
      "Processing Record 49 of Set 1 | namibe\n",
      "Processing Record 50 of Set 1 | touros\n",
      "Processing Record 51 of Set 1 | pisco\n",
      "Processing Record 1 of Set 2 | derzhavinsk\n",
      "Processing Record 2 of Set 2 | turayf\n",
      "Processing Record 3 of Set 2 | dikson\n",
      "Processing Record 4 of Set 2 | lima\n",
      "Processing Record 5 of Set 2 | lazaro cardenas\n",
      "Processing Record 6 of Set 2 | karlskoga\n",
      "Processing Record 7 of Set 2 | thompson\n",
      "Processing Record 8 of Set 2 | twin falls\n",
      "Processing Record 9 of Set 2 | henties bay\n",
      "Processing Record 10 of Set 2 | arraial do cabo\n",
      "Processing Record 11 of Set 2 | barrow\n",
      "Processing Record 12 of Set 2 | roma\n",
      "Processing Record 13 of Set 2 | gamba\n",
      "Processing Record 14 of Set 2 | geraldton\n",
      "Processing Record 15 of Set 2 | ha giang\n",
      "Processing Record 16 of Set 2 | hazorasp\n",
      "Processing Record 17 of Set 2 | nome\n",
      "Processing Record 18 of Set 2 | mataura\n",
      "Processing Record 19 of Set 2 | roebourne\n",
      "Processing Record 20 of Set 2 | tura\n",
      "Processing Record 21 of Set 2 | vila velha\n",
      "Processing Record 22 of Set 2 | jieshi\n",
      "Processing Record 23 of Set 2 | lompoc\n",
      "Processing Record 24 of Set 2 | nuuk\n",
      "Processing Record 25 of Set 2 | tasiilaq\n",
      "Processing Record 26 of Set 2 | oudtshoorn\n",
      "Processing Record 27 of Set 2 | margate\n",
      "Processing Record 28 of Set 2 | victoria\n",
      "Processing Record 29 of Set 2 | moussoro\n",
      "Processing Record 30 of Set 2 | mar del plata\n",
      "Processing Record 31 of Set 2 | faanui\n",
      "Processing Record 32 of Set 2 | igrim\n",
      "City not found. Skipping...\n",
      "City not found. Skipping...\n",
      "Processing Record 33 of Set 2 | montepuez\n",
      "Processing Record 34 of Set 2 | sikasso\n",
      "Processing Record 35 of Set 2 | huarmey\n",
      "Processing Record 36 of Set 2 | daru\n",
      "Processing Record 37 of Set 2 | sinnamary\n",
      "Processing Record 38 of Set 2 | laramie\n",
      "Processing Record 39 of Set 2 | isangel\n",
      "Processing Record 40 of Set 2 | hermanus\n",
      "Processing Record 41 of Set 2 | severo-kurilsk\n",
      "Processing Record 42 of Set 2 | lavrentiya\n",
      "Processing Record 43 of Set 2 | mayo\n",
      "Processing Record 44 of Set 2 | bolshaya dzhalga\n",
      "Processing Record 45 of Set 2 | andilamena\n",
      "Processing Record 46 of Set 2 | camana\n",
      "Processing Record 47 of Set 2 | buala\n",
      "Processing Record 48 of Set 2 | sobolevo\n",
      "Processing Record 49 of Set 2 | bredasdorp\n",
      "Processing Record 50 of Set 2 | wukari\n",
      "Processing Record 51 of Set 2 | fort nelson\n",
      "Processing Record 1 of Set 3 | hithadhoo\n",
      "Processing Record 2 of Set 3 | kathu\n",
      "Processing Record 3 of Set 3 | bambous virieux\n",
      "Processing Record 4 of Set 3 | balikpapan\n",
      "Processing Record 5 of Set 3 | miandrivazo\n",
      "Processing Record 6 of Set 3 | gloucester\n",
      "Processing Record 7 of Set 3 | fortuna\n",
      "Processing Record 8 of Set 3 | avera\n",
      "Processing Record 9 of Set 3 | leiyang\n",
      "Processing Record 10 of Set 3 | kapaa\n",
      "Processing Record 11 of Set 3 | jamestown\n",
      "Processing Record 12 of Set 3 | cranbrook\n",
      "Processing Record 13 of Set 3 | tigbinan\n",
      "Processing Record 14 of Set 3 | gazimurskiy zavod\n",
      "Processing Record 15 of Set 3 | tete\n",
      "Processing Record 16 of Set 3 | tilichiki\n",
      "Processing Record 17 of Set 3 | bethel\n",
      "Processing Record 18 of Set 3 | bandarbeyla\n",
      "Processing Record 19 of Set 3 | puerto ayora\n",
      "Processing Record 20 of Set 3 | cherskiy\n",
      "Processing Record 21 of Set 3 | abnub\n",
      "Processing Record 22 of Set 3 | port keats\n",
      "Processing Record 23 of Set 3 | condado\n",
      "Processing Record 24 of Set 3 | narsaq\n",
      "Processing Record 25 of Set 3 | valparaiso\n",
      "Processing Record 26 of Set 3 | imeni poliny osipenko\n",
      "Processing Record 27 of Set 3 | kutum\n",
      "Processing Record 28 of Set 3 | sangar\n",
      "Processing Record 29 of Set 3 | khatanga\n",
      "Processing Record 30 of Set 3 | tuktoyaktuk\n",
      "Processing Record 31 of Set 3 | olafsvik\n",
      "City not found. Skipping...\n",
      "Processing Record 32 of Set 3 | georgetown\n",
      "Processing Record 33 of Set 3 | torbay\n",
      "Processing Record 34 of Set 3 | mahebourg\n",
      "Processing Record 35 of Set 3 | chinsali\n",
      "Processing Record 36 of Set 3 | kangaatsiaq\n",
      "Processing Record 37 of Set 3 | grand forks\n",
      "Processing Record 38 of Set 3 | bilibino\n",
      "Processing Record 39 of Set 3 | saint george\n",
      "Processing Record 40 of Set 3 | itarema\n",
      "Processing Record 41 of Set 3 | port alfred\n",
      "Processing Record 42 of Set 3 | takoradi\n",
      "Processing Record 43 of Set 3 | kaeo\n",
      "Processing Record 44 of Set 3 | dicabisagan\n",
      "Processing Record 45 of Set 3 | bilma\n",
      "Processing Record 46 of Set 3 | biak\n",
      "Processing Record 47 of Set 3 | san patricio\n",
      "Processing Record 48 of Set 3 | castro\n",
      "Processing Record 49 of Set 3 | cayenne\n",
      "City not found. Skipping...\n",
      "Processing Record 50 of Set 3 | ustyuzhna\n",
      "Processing Record 51 of Set 3 | mapiripan\n",
      "Processing Record 1 of Set 4 | constitucion\n",
      "Processing Record 2 of Set 4 | saint-pierre\n",
      "City not found. Skipping...\n",
      "Processing Record 3 of Set 4 | hameenlinna\n",
      "Processing Record 4 of Set 4 | causapscal\n",
      "Processing Record 5 of Set 4 | iqaluit\n",
      "Processing Record 6 of Set 4 | jalu\n",
      "Processing Record 7 of Set 4 | mbandaka\n",
      "Processing Record 8 of Set 4 | chuy\n",
      "Processing Record 9 of Set 4 | hami\n",
      "Processing Record 10 of Set 4 | ordzhonikidze\n",
      "Processing Record 11 of Set 4 | behbahan\n",
      "Processing Record 12 of Set 4 | tamiahua\n",
      "Processing Record 13 of Set 4 | ponta do sol\n",
      "Processing Record 14 of Set 4 | coquimbo\n",
      "Processing Record 15 of Set 4 | portland\n",
      "Processing Record 16 of Set 4 | kudahuvadhoo\n",
      "Processing Record 17 of Set 4 | sorland\n",
      "Processing Record 18 of Set 4 | naze\n",
      "Processing Record 19 of Set 4 | longyearbyen\n",
      "Processing Record 20 of Set 4 | norman wells\n",
      "Processing Record 21 of Set 4 | les herbiers\n",
      "Processing Record 22 of Set 4 | ahipara\n",
      "Processing Record 23 of Set 4 | yellowknife\n",
      "Processing Record 24 of Set 4 | rabo de peixe\n",
      "Processing Record 25 of Set 4 | cabo san lucas\n",
      "Processing Record 26 of Set 4 | dhidhdhoo\n",
      "Processing Record 27 of Set 4 | beringovskiy\n",
      "Processing Record 28 of Set 4 | port lincoln\n",
      "Processing Record 29 of Set 4 | mbigou\n",
      "City not found. Skipping...\n",
      "Processing Record 30 of Set 4 | bolitoc\n",
      "Processing Record 31 of Set 4 | lorengau\n",
      "Processing Record 32 of Set 4 | kavaratti\n",
      "Processing Record 33 of Set 4 | fukue\n",
      "City not found. Skipping...\n",
      "Processing Record 34 of Set 4 | kalloni\n",
      "Processing Record 35 of Set 4 | amapa\n",
      "Processing Record 36 of Set 4 | bairiki\n",
      "Processing Record 37 of Set 4 | tornio\n",
      "Processing Record 38 of Set 4 | provideniya\n",
      "Processing Record 39 of Set 4 | mana\n",
      "Processing Record 40 of Set 4 | bengkulu\n"
     ]
    },
    {
     "name": "stdout",
     "output_type": "stream",
     "text": [
      "Processing Record 41 of Set 4 | laktasi\n",
      "Processing Record 42 of Set 4 | los llanos de aridane\n",
      "Processing Record 43 of Set 4 | kaitangata\n",
      "Processing Record 44 of Set 4 | menongue\n",
      "Processing Record 45 of Set 4 | darnah\n",
      "City not found. Skipping...\n",
      "Processing Record 46 of Set 4 | hervey bay\n",
      "Processing Record 47 of Set 4 | new norfolk\n",
      "Processing Record 48 of Set 4 | port hawkesbury\n",
      "Processing Record 49 of Set 4 | bata\n",
      "Processing Record 50 of Set 4 | veraval\n",
      "Processing Record 51 of Set 4 | katherine\n",
      "Processing Record 1 of Set 5 | nemuro\n",
      "Processing Record 2 of Set 5 | college\n",
      "Processing Record 3 of Set 5 | inongo\n",
      "Processing Record 4 of Set 5 | sao filipe\n",
      "Processing Record 5 of Set 5 | cauquenes\n",
      "Processing Record 6 of Set 5 | hambantota\n",
      "City not found. Skipping...\n",
      "Processing Record 7 of Set 5 | kjollefjord\n",
      "Processing Record 8 of Set 5 | humaita\n",
      "Processing Record 9 of Set 5 | komsomolskiy\n",
      "Processing Record 10 of Set 5 | syracuse\n",
      "Processing Record 11 of Set 5 | guerrero negro\n",
      "Processing Record 12 of Set 5 | maningrida\n",
      "Processing Record 13 of Set 5 | neftcala\n",
      "Processing Record 14 of Set 5 | shingu\n",
      "Processing Record 15 of Set 5 | povenets\n",
      "Processing Record 16 of Set 5 | havoysund\n",
      "Processing Record 17 of Set 5 | porto velho\n",
      "Processing Record 18 of Set 5 | ushumun\n",
      "Processing Record 19 of Set 5 | esperance\n",
      "Processing Record 20 of Set 5 | presidencia roque saenz pena\n",
      "Processing Record 21 of Set 5 | belaya gora\n",
      "Processing Record 22 of Set 5 | souillac\n",
      "City not found. Skipping...\n",
      "City not found. Skipping...\n",
      "Processing Record 23 of Set 5 | ozorkow\n",
      "Processing Record 24 of Set 5 | kloulklubed\n",
      "Processing Record 25 of Set 5 | sitka\n",
      "Processing Record 26 of Set 5 | kulhudhuffushi\n",
      "Processing Record 27 of Set 5 | podor\n",
      "Processing Record 28 of Set 5 | deer lake\n",
      "Processing Record 29 of Set 5 | paducah\n",
      "Processing Record 30 of Set 5 | christchurch\n",
      "Processing Record 31 of Set 5 | matagami\n",
      "Processing Record 32 of Set 5 | pangoa\n",
      "Processing Record 33 of Set 5 | manta\n",
      "City not found. Skipping...\n",
      "City not found. Skipping...\n",
      "Processing Record 34 of Set 5 | maturin\n",
      "Processing Record 35 of Set 5 | barranca\n",
      "Processing Record 36 of Set 5 | kasba\n",
      "Processing Record 37 of Set 5 | meulaboh\n",
      "Processing Record 38 of Set 5 | tibati\n",
      "City not found. Skipping...\n",
      "Processing Record 39 of Set 5 | barcelos\n",
      "Processing Record 40 of Set 5 | lagunas\n",
      "Processing Record 41 of Set 5 | conde\n",
      "City not found. Skipping...\n",
      "Processing Record 42 of Set 5 | port augusta\n",
      "Processing Record 43 of Set 5 | srednekolymsk\n",
      "Processing Record 44 of Set 5 | artesia\n",
      "Processing Record 45 of Set 5 | ippy\n",
      "Processing Record 46 of Set 5 | turinskaya sloboda\n",
      "Processing Record 47 of Set 5 | singaparna\n",
      "Processing Record 48 of Set 5 | rio branco do sul\n",
      "Processing Record 49 of Set 5 | tuatapere\n",
      "Processing Record 50 of Set 5 | neuquen\n",
      "Processing Record 51 of Set 5 | serafimovich\n",
      "Processing Record 1 of Set 6 | marana\n",
      "Processing Record 2 of Set 6 | zhangjiakou\n",
      "Processing Record 3 of Set 6 | port elizabeth\n",
      "Processing Record 4 of Set 6 | luanda\n",
      "City not found. Skipping...\n",
      "Processing Record 5 of Set 6 | chimoio\n",
      "Processing Record 6 of Set 6 | makushino\n",
      "Processing Record 7 of Set 6 | inirida\n",
      "Processing Record 8 of Set 6 | bardiyah\n",
      "City not found. Skipping...\n",
      "Processing Record 9 of Set 6 | san quintin\n",
      "Processing Record 10 of Set 6 | honningsvag\n",
      "Processing Record 11 of Set 6 | vraca\n",
      "Processing Record 12 of Set 6 | neryungri\n",
      "Processing Record 13 of Set 6 | cockburn town\n",
      "Processing Record 14 of Set 6 | raahe\n",
      "Processing Record 15 of Set 6 | khomeyn\n",
      "Processing Record 16 of Set 6 | havre\n",
      "Processing Record 17 of Set 6 | puerto madryn\n",
      "Processing Record 18 of Set 6 | monastyryshche\n",
      "Processing Record 19 of Set 6 | yaan\n",
      "Processing Record 20 of Set 6 | ajdabiya\n",
      "Processing Record 21 of Set 6 | grand gaube\n",
      "Processing Record 22 of Set 6 | acapulco\n",
      "Processing Record 23 of Set 6 | ulaanbaatar\n",
      "Processing Record 24 of Set 6 | balkhash\n",
      "City not found. Skipping...\n",
      "Processing Record 25 of Set 6 | vardo\n",
      "Processing Record 26 of Set 6 | alugan\n",
      "Processing Record 27 of Set 6 | delijan\n",
      "Processing Record 28 of Set 6 | hay river\n",
      "Processing Record 29 of Set 6 | bani walid\n",
      "Processing Record 30 of Set 6 | wajid\n",
      "Processing Record 31 of Set 6 | zhigansk\n",
      "Processing Record 32 of Set 6 | la ronge\n",
      "Processing Record 33 of Set 6 | rio gallegos\n",
      "Processing Record 34 of Set 6 | le port\n",
      "Processing Record 35 of Set 6 | kibala\n",
      "Processing Record 36 of Set 6 | tiksi\n",
      "Processing Record 37 of Set 6 | beloha\n",
      "City not found. Skipping...\n",
      "City not found. Skipping...\n",
      "Processing Record 38 of Set 6 | yerofey pavlovich\n",
      "Processing Record 39 of Set 6 | lyndon\n",
      "Processing Record 40 of Set 6 | bukoba\n",
      "Processing Record 41 of Set 6 | kimbe\n",
      "Processing Record 42 of Set 6 | iberia\n",
      "Processing Record 43 of Set 6 | celestun\n",
      "Processing Record 44 of Set 6 | lixourion\n",
      "Processing Record 45 of Set 6 | kemijarvi\n",
      "City not found. Skipping...\n",
      "Processing Record 46 of Set 6 | bom jardim\n",
      "Processing Record 47 of Set 6 | sept-iles\n",
      "Processing Record 48 of Set 6 | cantaura\n",
      "Processing Record 49 of Set 6 | brokopondo\n",
      "Processing Record 50 of Set 6 | kilrush\n",
      "Processing Record 51 of Set 6 | codrington\n",
      "City not found. Skipping...\n",
      "City not found. Skipping...\n",
      "Processing Record 1 of Set 7 | ancud\n",
      "Processing Record 2 of Set 7 | pervomayskoye\n",
      "Processing Record 3 of Set 7 | berlevag\n",
      "City not found. Skipping...\n",
      "Processing Record 4 of Set 7 | vanimo\n",
      "Processing Record 5 of Set 7 | udachnyy\n",
      "Processing Record 6 of Set 7 | brae\n",
      "Processing Record 7 of Set 7 | verkhnevilyuysk\n",
      "Processing Record 8 of Set 7 | huangmei\n",
      "Processing Record 9 of Set 7 | pangnirtung\n",
      "Processing Record 10 of Set 7 | cascais\n",
      "Processing Record 11 of Set 7 | novikovo\n",
      "Processing Record 12 of Set 7 | key largo\n",
      "Processing Record 13 of Set 7 | energetik\n",
      "Processing Record 14 of Set 7 | along\n",
      "Processing Record 15 of Set 7 | jumla\n",
      "Processing Record 16 of Set 7 | the valley\n",
      "Processing Record 17 of Set 7 | hermitage\n",
      "Processing Record 18 of Set 7 | huilong\n",
      "Processing Record 19 of Set 7 | kyzyl-suu\n",
      "Processing Record 20 of Set 7 | makaryev\n",
      "Processing Record 21 of Set 7 | palasbari\n",
      "Processing Record 22 of Set 7 | sehithwa\n",
      "Processing Record 23 of Set 7 | windhoek\n",
      "Processing Record 24 of Set 7 | goderich\n",
      "Processing Record 25 of Set 7 | san vicente\n",
      "Processing Record 26 of Set 7 | egvekinot\n",
      "Processing Record 27 of Set 7 | teguldet\n",
      "Processing Record 28 of Set 7 | clyde river\n",
      "Processing Record 29 of Set 7 | laguna\n",
      "Processing Record 30 of Set 7 | alofi\n",
      "Processing Record 31 of Set 7 | samarai\n",
      "Processing Record 32 of Set 7 | kirakira\n",
      "Processing Record 33 of Set 7 | new albany\n",
      "Processing Record 34 of Set 7 | azuaga\n",
      "Processing Record 35 of Set 7 | antalaha\n",
      "Processing Record 36 of Set 7 | leningradskiy\n",
      "City not found. Skipping...\n",
      "Processing Record 37 of Set 7 | vila franca do campo\n",
      "Processing Record 38 of Set 7 | oussouye\n",
      "Processing Record 39 of Set 7 | dudinka\n",
      "City not found. Skipping...\n",
      "Processing Record 40 of Set 7 | dahra\n",
      "Processing Record 41 of Set 7 | roald\n",
      "Processing Record 42 of Set 7 | aklavik\n",
      "Processing Record 43 of Set 7 | viedma\n",
      "Processing Record 44 of Set 7 | yulara\n",
      "Processing Record 45 of Set 7 | nyurba\n",
      "Processing Record 46 of Set 7 | tooele\n",
      "Processing Record 47 of Set 7 | chapais\n",
      "Processing Record 48 of Set 7 | puerto cabezas\n",
      "Processing Record 49 of Set 7 | pevek\n",
      "Processing Record 50 of Set 7 | maceio\n",
      "Processing Record 51 of Set 7 | paamiut\n",
      "Processing Record 1 of Set 8 | luocheng\n",
      "Processing Record 2 of Set 8 | san jose\n",
      "Processing Record 3 of Set 8 | new port richey\n",
      "Processing Record 4 of Set 8 | bowen\n",
      "Processing Record 5 of Set 8 | djambala\n",
      "Processing Record 6 of Set 8 | kokopo\n",
      "Processing Record 7 of Set 8 | nelson bay\n",
      "Processing Record 8 of Set 8 | kitimat\n",
      "Processing Record 9 of Set 8 | dambulla\n",
      "Processing Record 10 of Set 8 | tocopilla\n",
      "City not found. Skipping...\n",
      "Processing Record 11 of Set 8 | mlimba\n",
      "Processing Record 12 of Set 8 | faya\n",
      "City not found. Skipping...\n",
      "Processing Record 13 of Set 8 | najran\n",
      "Processing Record 14 of Set 8 | palmer\n",
      "Processing Record 15 of Set 8 | bathsheba\n",
      "Processing Record 16 of Set 8 | stornoway\n",
      "Processing Record 17 of Set 8 | ibra\n",
      "Processing Record 18 of Set 8 | port-cartier\n",
      "Processing Record 19 of Set 8 | visnes\n",
      "Processing Record 20 of Set 8 | tanggul\n",
      "Processing Record 21 of Set 8 | fayaoue\n"
     ]
    },
    {
     "name": "stdout",
     "output_type": "stream",
     "text": [
      "Processing Record 22 of Set 8 | half moon bay\n",
      "Processing Record 23 of Set 8 | ati\n",
      "Processing Record 24 of Set 8 | mora\n",
      "Processing Record 25 of Set 8 | yagodnoye\n",
      "Processing Record 26 of Set 8 | sola\n",
      "Processing Record 27 of Set 8 | saint-joseph\n",
      "Processing Record 28 of Set 8 | tiznit\n",
      "Processing Record 29 of Set 8 | kruisfontein\n",
      "Processing Record 30 of Set 8 | hovd\n",
      "Processing Record 31 of Set 8 | mandalgovi\n",
      "Processing Record 32 of Set 8 | rio grande\n",
      "Processing Record 33 of Set 8 | bukama\n",
      "Processing Record 34 of Set 8 | thornbury\n",
      "Processing Record 35 of Set 8 | ketchikan\n",
      "Processing Record 36 of Set 8 | moundsville\n",
      "Processing Record 37 of Set 8 | trairi\n",
      "Processing Record 38 of Set 8 | irbit\n",
      "Processing Record 39 of Set 8 | brownsville\n",
      "Processing Record 40 of Set 8 | klaksvik\n",
      "Processing Record 41 of Set 8 | tongren\n",
      "Processing Record 42 of Set 8 | sakaiminato\n",
      "City not found. Skipping...\n",
      "Processing Record 43 of Set 8 | lucani\n",
      "Processing Record 44 of Set 8 | trinidad\n",
      "Processing Record 45 of Set 8 | juegang\n",
      "Processing Record 46 of Set 8 | idritsa\n",
      "Processing Record 47 of Set 8 | horta\n",
      "Processing Record 48 of Set 8 | bemidji\n",
      "Processing Record 49 of Set 8 | noumea\n",
      "Processing Record 50 of Set 8 | esso\n",
      "Processing Record 51 of Set 8 | conchas\n",
      "Processing Record 1 of Set 9 | yushu\n",
      "Processing Record 2 of Set 9 | moose factory\n",
      "Processing Record 3 of Set 9 | cururupu\n",
      "Processing Record 4 of Set 9 | eirunepe\n",
      "City not found. Skipping...\n",
      "Processing Record 5 of Set 9 | sri aman\n",
      "Processing Record 6 of Set 9 | idah\n",
      "Processing Record 7 of Set 9 | holme\n",
      "Processing Record 8 of Set 9 | lombard\n",
      "Processing Record 9 of Set 9 | vuktyl\n",
      "Processing Record 10 of Set 9 | pontianak\n",
      "Processing Record 11 of Set 9 | premia de mar\n",
      "Processing Record 12 of Set 9 | nyaunglebin\n",
      "Processing Record 13 of Set 9 | teonthar\n",
      "Processing Record 14 of Set 9 | moissac\n",
      "Processing Record 15 of Set 9 | roura\n",
      "Processing Record 16 of Set 9 | inuvik\n",
      "Processing Record 17 of Set 9 | omboue\n",
      "Processing Record 18 of Set 9 | diamantino\n",
      "Processing Record 19 of Set 9 | arman\n",
      "Processing Record 20 of Set 9 | cidreira\n",
      "Processing Record 21 of Set 9 | leua\n",
      "Processing Record 22 of Set 9 | quatre cocos\n",
      "Processing Record 23 of Set 9 | rosetta\n",
      "Processing Record 24 of Set 9 | mounana\n",
      "Processing Record 25 of Set 9 | manokwari\n",
      "Processing Record 26 of Set 9 | seminole\n",
      "Processing Record 27 of Set 9 | evensk\n",
      "Processing Record 28 of Set 9 | luderitz\n",
      "Processing Record 29 of Set 9 | kaposvar\n",
      "Processing Record 30 of Set 9 | tazovskiy\n",
      "Processing Record 31 of Set 9 | haines junction\n",
      "Processing Record 32 of Set 9 | tacna\n",
      "Processing Record 33 of Set 9 | coahuayana\n",
      "Processing Record 34 of Set 9 | martapura\n",
      "Processing Record 35 of Set 9 | jasper\n",
      "Processing Record 36 of Set 9 | rocha\n",
      "Processing Record 37 of Set 9 | biltine\n",
      "Processing Record 38 of Set 9 | wau\n",
      "Processing Record 39 of Set 9 | akhnur\n",
      "Processing Record 40 of Set 9 | nioro\n",
      "Processing Record 41 of Set 9 | felanitx\n",
      "Processing Record 42 of Set 9 | lincoln\n",
      "Processing Record 43 of Set 9 | padang\n",
      "Processing Record 44 of Set 9 | sayyan\n",
      "Processing Record 45 of Set 9 | kaka\n",
      "Processing Record 46 of Set 9 | gravdal\n",
      "Processing Record 47 of Set 9 | hofn\n",
      "Processing Record 48 of Set 9 | north bend\n",
      "City not found. Skipping...\n",
      "City not found. Skipping...\n",
      "Processing Record 49 of Set 9 | sao joao da barra\n",
      "Processing Record 50 of Set 9 | tongliao\n",
      "Processing Record 51 of Set 9 | cabra\n",
      "Processing Record 1 of Set 10 | mezen\n",
      "Processing Record 2 of Set 10 | sao felix do xingu\n",
      "Processing Record 3 of Set 10 | sydney\n",
      "Processing Record 4 of Set 10 | obo\n",
      "Processing Record 5 of Set 10 | asyut\n",
      "Processing Record 6 of Set 10 | bulgan\n",
      "Processing Record 7 of Set 10 | islampur\n",
      "City not found. Skipping...\n",
      "Processing Record 8 of Set 10 | olovyannaya\n",
      "Processing Record 9 of Set 10 | port hardy\n",
      "Processing Record 10 of Set 10 | kingsport\n",
      "Processing Record 11 of Set 10 | kahului\n",
      "Processing Record 12 of Set 10 | mancio lima\n",
      "Processing Record 13 of Set 10 | boca do acre\n",
      "Processing Record 14 of Set 10 | oranjestad\n",
      "Processing Record 15 of Set 10 | sistranda\n",
      "Processing Record 16 of Set 10 | san jeronimo\n",
      "Processing Record 17 of Set 10 | porto santo\n",
      "Processing Record 18 of Set 10 | havre-saint-pierre\n",
      "Processing Record 19 of Set 10 | honiara\n",
      "Processing Record 20 of Set 10 | chaplynka\n",
      "Processing Record 21 of Set 10 | mage\n",
      "Processing Record 22 of Set 10 | santa maria\n",
      "City not found. Skipping...\n",
      "Processing Record 23 of Set 10 | karratha\n",
      "Processing Record 24 of Set 10 | urumqi\n",
      "City not found. Skipping...\n",
      "Processing Record 25 of Set 10 | taonan\n",
      "Processing Record 26 of Set 10 | pacific grove\n",
      "Processing Record 27 of Set 10 | los algarrobos\n",
      "Processing Record 28 of Set 10 | tessalit\n",
      "Processing Record 29 of Set 10 | mount gambier\n",
      "Processing Record 30 of Set 10 | miyako\n",
      "Processing Record 31 of Set 10 | novoagansk\n",
      "Processing Record 32 of Set 10 | ulladulla\n",
      "Processing Record 33 of Set 10 | tabuk\n",
      "Processing Record 34 of Set 10 | talcahuano\n",
      "Processing Record 35 of Set 10 | panguna\n",
      "Processing Record 36 of Set 10 | mayya\n",
      "City not found. Skipping...\n",
      "Processing Record 37 of Set 10 | nedjo\n",
      "Processing Record 38 of Set 10 | taksimo\n",
      "Processing Record 39 of Set 10 | lagoa\n",
      "Processing Record 40 of Set 10 | snasa\n",
      "Processing Record 41 of Set 10 | medicine hat\n",
      "Processing Record 42 of Set 10 | solnechnyy\n",
      "City not found. Skipping...\n",
      "Processing Record 43 of Set 10 | vila do maio\n",
      "Processing Record 44 of Set 10 | puli\n",
      "Processing Record 45 of Set 10 | meiringen\n",
      "Processing Record 46 of Set 10 | lukulu\n",
      "Processing Record 47 of Set 10 | belmonte\n",
      "Processing Record 48 of Set 10 | farmington\n",
      "Processing Record 49 of Set 10 | qaqortoq\n",
      "Processing Record 50 of Set 10 | mut\n",
      "Processing Record 51 of Set 10 | nanning\n",
      "City not found. Skipping...\n",
      "Processing Record 1 of Set 11 | qom\n",
      "Processing Record 2 of Set 11 | katangli\n",
      "Processing Record 3 of Set 11 | morehead\n",
      "Processing Record 4 of Set 11 | nanortalik\n",
      "Processing Record 5 of Set 11 | chumikan\n",
      "City not found. Skipping...\n",
      "Processing Record 6 of Set 11 | seoul\n",
      "Processing Record 7 of Set 11 | san cristobal\n",
      "Processing Record 8 of Set 11 | reinheim\n",
      "Processing Record 9 of Set 11 | gigmoto\n",
      "Processing Record 10 of Set 11 | san buenaventura\n",
      "City not found. Skipping...\n",
      "Processing Record 11 of Set 11 | khovu-aksy\n",
      "Processing Record 12 of Set 11 | tomatlan\n",
      "City not found. Skipping...\n",
      "Processing Record 13 of Set 11 | haverfordwest\n",
      "Processing Record 14 of Set 11 | solton\n",
      "Processing Record 15 of Set 11 | saint augustine\n",
      "Processing Record 16 of Set 11 | calamar\n",
      "Processing Record 17 of Set 11 | svirsk\n",
      "Processing Record 18 of Set 11 | kichmengskiy gorodok\n",
      "Processing Record 19 of Set 11 | krasnobrodskiy\n",
      "Processing Record 20 of Set 11 | okato\n",
      "Processing Record 21 of Set 11 | goleta\n",
      "Processing Record 22 of Set 11 | morondava\n",
      "Processing Record 23 of Set 11 | acucena\n",
      "Processing Record 24 of Set 11 | placido de castro\n",
      "Processing Record 25 of Set 11 | quang ngai\n",
      "Processing Record 26 of Set 11 | cabedelo\n",
      "Processing Record 27 of Set 11 | graciano sanchez\n",
      "Processing Record 28 of Set 11 | baley\n",
      "Processing Record 29 of Set 11 | miresu mare\n",
      "Processing Record 30 of Set 11 | mount isa\n",
      "Processing Record 31 of Set 11 | mareeba\n",
      "City not found. Skipping...\n",
      "City not found. Skipping...\n",
      "Processing Record 32 of Set 11 | umm lajj\n",
      "Processing Record 33 of Set 11 | ghanzi\n",
      "Processing Record 34 of Set 11 | srandakan\n",
      "Processing Record 35 of Set 11 | kumeny\n",
      "Processing Record 36 of Set 11 | amuntai\n",
      "Processing Record 37 of Set 11 | mecca\n",
      "Processing Record 38 of Set 11 | baculin\n",
      "Processing Record 39 of Set 11 | ebebiyin\n",
      "Processing Record 40 of Set 11 | nhulunbuy\n",
      "Processing Record 41 of Set 11 | atlantic city\n",
      "Processing Record 42 of Set 11 | verkhnyaya inta\n",
      "Processing Record 43 of Set 11 | kalabo\n",
      "Processing Record 44 of Set 11 | wicklow\n",
      "Processing Record 45 of Set 11 | taltal\n",
      "Processing Record 46 of Set 11 | airai\n",
      "Processing Record 47 of Set 11 | sagua la grande\n",
      "Processing Record 48 of Set 11 | pitimbu\n",
      "Processing Record 49 of Set 11 | roblin\n",
      "Processing Record 50 of Set 11 | natal\n",
      "Processing Record 51 of Set 11 | baracoa\n",
      "Processing Record 1 of Set 12 | kyotera\n",
      "City not found. Skipping...\n",
      "Processing Record 2 of Set 12 | hokitika\n",
      "Processing Record 3 of Set 12 | raudeberg\n",
      "Processing Record 4 of Set 12 | grindavik\n"
     ]
    },
    {
     "name": "stdout",
     "output_type": "stream",
     "text": [
      "Processing Record 5 of Set 12 | kovernino\n",
      "Processing Record 6 of Set 12 | zharkent\n",
      "Processing Record 7 of Set 12 | boa vista\n",
      "City not found. Skipping...\n",
      "Processing Record 8 of Set 12 | inhambane\n",
      "Processing Record 9 of Set 12 | kalangala\n",
      "Processing Record 10 of Set 12 | sinazongwe\n",
      "Processing Record 11 of Set 12 | agadez\n",
      "Processing Record 12 of Set 12 | jetis\n",
      "Processing Record 13 of Set 12 | keuruu\n",
      "Processing Record 14 of Set 12 | suntar\n",
      "Processing Record 15 of Set 12 | pucallpa\n",
      "Processing Record 16 of Set 12 | sakakah\n",
      "Processing Record 17 of Set 12 | mazarron\n",
      "Processing Record 18 of Set 12 | salalah\n",
      "------------------------------\n",
      "Data Retrieval Complete\n",
      "-----------------------------\n",
      "\n"
     ]
    }
   ],
   "source": [
    "# Url\n",
    "base_url = \"http://api.openweathermap.org/data/2.5/weather?\"\n",
    "\n",
    "city_two = []\n",
    "cloudinesses = []\n",
    "dates = []\n",
    "humidities = []\n",
    "lats = []\n",
    "lngs = []\n",
    "max_temps = []\n",
    "wind_speeds = []\n",
    "countries = []\n",
    "\n",
    "# Set initial count quantities for organization\n",
    "count_one = 0\n",
    "set_one = 1\n",
    "\n",
    "# loops for creating dataframe columns\n",
    "for city in cities:\n",
    "    try:\n",
    "        \n",
    "        query_url = base_url + \"appid=\" + weather_api_key + \"&q=\" + city\n",
    "        response = requests.get(query_url).json()\n",
    "                \n",
    "        cloudinesses.append(response['clouds']['all'])\n",
    "        countries.append(response['sys']['country'])\n",
    "        dates.append(response['dt'])\n",
    "        humidities.append(response['main']['humidity'])\n",
    "        lats.append(response['coord']['lat'])\n",
    "        lngs.append(response['coord']['lon'])\n",
    "        max_temps.append(response['main']['temp_max'])\n",
    "        wind_speeds.append(response['wind']['speed'])\n",
    "        if count_one > 50:\n",
    "            count_one = 1\n",
    "            set_one += 1\n",
    "            city_two.append(city)\n",
    "           \n",
    "        else:\n",
    "            count_one += 1\n",
    "            city_two.append(city)\n",
    "            \n",
    "        print(f\"Processing Record {count_one} of Set {set_one} | {city}\")\n",
    "    except Exception:\n",
    "        print(\"City not found. Skipping...\")\n",
    "print(\"------------------------------\\n\"\n",
    "        f\"Data Retrieval Complete\\n\"\n",
    "        f\"-----------------------------\\n\")    "
   ]
  },
  {
   "cell_type": "markdown",
   "metadata": {},
   "source": [
    "### Convert Raw Data to DataFrame\n",
    "* Export the city data into a .csv.\n",
    "* Display the DataFrame"
   ]
  },
  {
   "cell_type": "code",
   "execution_count": 4,
   "metadata": {},
   "outputs": [],
   "source": [
    "weather_dict = {\n",
    "    \"City\":city_two,\n",
    "    \"Cloudiness\":cloudinesses,\n",
    "    \"Country\":countries,\n",
    "    \"Date\":dates,\n",
    "    \"Humidity\":humidities,\n",
    "    \"Lat\":lats,\n",
    "    \"Lng\":lngs,\n",
    "    \"Max Temp\":max_temps,\n",
    "    \"Wind Speed\":wind_speeds\n",
    "}"
   ]
  },
  {
   "cell_type": "code",
   "execution_count": 5,
   "metadata": {
    "scrolled": true
   },
   "outputs": [],
   "source": [
    "# establish dataframe\n",
    "weather_dataframe = pd.DataFrame(weather_dict)"
   ]
  },
  {
   "cell_type": "code",
   "execution_count": 6,
   "metadata": {},
   "outputs": [
    {
     "data": {
      "text/html": [
       "<div>\n",
       "<style scoped>\n",
       "    .dataframe tbody tr th:only-of-type {\n",
       "        vertical-align: middle;\n",
       "    }\n",
       "\n",
       "    .dataframe tbody tr th {\n",
       "        vertical-align: top;\n",
       "    }\n",
       "\n",
       "    .dataframe thead th {\n",
       "        text-align: right;\n",
       "    }\n",
       "</style>\n",
       "<table border=\"1\" class=\"dataframe\">\n",
       "  <thead>\n",
       "    <tr style=\"text-align: right;\">\n",
       "      <th></th>\n",
       "      <th>City</th>\n",
       "      <th>Cloudiness</th>\n",
       "      <th>Country</th>\n",
       "      <th>Date</th>\n",
       "      <th>Humidity</th>\n",
       "      <th>Lat</th>\n",
       "      <th>Lng</th>\n",
       "      <th>Max Temp</th>\n",
       "      <th>Wind Speed</th>\n",
       "    </tr>\n",
       "  </thead>\n",
       "  <tbody>\n",
       "    <tr>\n",
       "      <th>0</th>\n",
       "      <td>talnakh</td>\n",
       "      <td>94</td>\n",
       "      <td>RU</td>\n",
       "      <td>1650910725</td>\n",
       "      <td>97</td>\n",
       "      <td>69.4865</td>\n",
       "      <td>88.3972</td>\n",
       "      <td>254.93</td>\n",
       "      <td>1.81</td>\n",
       "    </tr>\n",
       "    <tr>\n",
       "      <th>1</th>\n",
       "      <td>bluff</td>\n",
       "      <td>30</td>\n",
       "      <td>NZ</td>\n",
       "      <td>1650910709</td>\n",
       "      <td>66</td>\n",
       "      <td>-46.6000</td>\n",
       "      <td>168.3333</td>\n",
       "      <td>283.60</td>\n",
       "      <td>10.48</td>\n",
       "    </tr>\n",
       "    <tr>\n",
       "      <th>2</th>\n",
       "      <td>saskylakh</td>\n",
       "      <td>83</td>\n",
       "      <td>RU</td>\n",
       "      <td>1650910706</td>\n",
       "      <td>100</td>\n",
       "      <td>71.9167</td>\n",
       "      <td>114.0833</td>\n",
       "      <td>250.63</td>\n",
       "      <td>1.71</td>\n",
       "    </tr>\n",
       "    <tr>\n",
       "      <th>3</th>\n",
       "      <td>ostrovnoy</td>\n",
       "      <td>100</td>\n",
       "      <td>RU</td>\n",
       "      <td>1650910725</td>\n",
       "      <td>98</td>\n",
       "      <td>68.0531</td>\n",
       "      <td>39.5131</td>\n",
       "      <td>274.33</td>\n",
       "      <td>1.92</td>\n",
       "    </tr>\n",
       "    <tr>\n",
       "      <th>4</th>\n",
       "      <td>ushuaia</td>\n",
       "      <td>100</td>\n",
       "      <td>AR</td>\n",
       "      <td>1650910699</td>\n",
       "      <td>67</td>\n",
       "      <td>-54.8000</td>\n",
       "      <td>-68.3000</td>\n",
       "      <td>278.94</td>\n",
       "      <td>1.50</td>\n",
       "    </tr>\n",
       "  </tbody>\n",
       "</table>\n",
       "</div>"
      ],
      "text/plain": [
       "        City  Cloudiness Country        Date  Humidity      Lat       Lng  \\\n",
       "0    talnakh          94      RU  1650910725        97  69.4865   88.3972   \n",
       "1      bluff          30      NZ  1650910709        66 -46.6000  168.3333   \n",
       "2  saskylakh          83      RU  1650910706       100  71.9167  114.0833   \n",
       "3  ostrovnoy         100      RU  1650910725        98  68.0531   39.5131   \n",
       "4    ushuaia         100      AR  1650910699        67 -54.8000  -68.3000   \n",
       "\n",
       "   Max Temp  Wind Speed  \n",
       "0    254.93        1.81  \n",
       "1    283.60       10.48  \n",
       "2    250.63        1.71  \n",
       "3    274.33        1.92  \n",
       "4    278.94        1.50  "
      ]
     },
     "execution_count": 6,
     "metadata": {},
     "output_type": "execute_result"
    }
   ],
   "source": [
    "# show the top of the dataframe\n",
    "weather_dataframe.head()"
   ]
  },
  {
   "cell_type": "code",
   "execution_count": 7,
   "metadata": {},
   "outputs": [
    {
     "data": {
      "text/plain": [
       "City          579\n",
       "Cloudiness    579\n",
       "Country       579\n",
       "Date          579\n",
       "Humidity      579\n",
       "Lat           579\n",
       "Lng           579\n",
       "Max Temp      579\n",
       "Wind Speed    579\n",
       "dtype: int64"
      ]
     },
     "execution_count": 7,
     "metadata": {},
     "output_type": "execute_result"
    }
   ],
   "source": [
    "weather_dataframe.count()"
   ]
  },
  {
   "cell_type": "code",
   "execution_count": 8,
   "metadata": {},
   "outputs": [],
   "source": [
    "# output data to csv\n",
    "weather_dataframe.to_csv(\"weather_df.csv\")"
   ]
  },
  {
   "cell_type": "code",
   "execution_count": 9,
   "metadata": {},
   "outputs": [
    {
     "data": {
      "text/html": [
       "<div>\n",
       "<style scoped>\n",
       "    .dataframe tbody tr th:only-of-type {\n",
       "        vertical-align: middle;\n",
       "    }\n",
       "\n",
       "    .dataframe tbody tr th {\n",
       "        vertical-align: top;\n",
       "    }\n",
       "\n",
       "    .dataframe thead th {\n",
       "        text-align: right;\n",
       "    }\n",
       "</style>\n",
       "<table border=\"1\" class=\"dataframe\">\n",
       "  <thead>\n",
       "    <tr style=\"text-align: right;\">\n",
       "      <th></th>\n",
       "      <th>City</th>\n",
       "      <th>Cloudiness</th>\n",
       "      <th>Country</th>\n",
       "      <th>Date</th>\n",
       "      <th>Humidity</th>\n",
       "      <th>Lat</th>\n",
       "      <th>Lng</th>\n",
       "      <th>Max Temp</th>\n",
       "      <th>Wind Speed</th>\n",
       "    </tr>\n",
       "  </thead>\n",
       "  <tbody>\n",
       "    <tr>\n",
       "      <th>0</th>\n",
       "      <td>talnakh</td>\n",
       "      <td>94</td>\n",
       "      <td>RU</td>\n",
       "      <td>1650910725</td>\n",
       "      <td>97</td>\n",
       "      <td>69.4865</td>\n",
       "      <td>88.3972</td>\n",
       "      <td>254.93</td>\n",
       "      <td>1.81</td>\n",
       "    </tr>\n",
       "    <tr>\n",
       "      <th>1</th>\n",
       "      <td>bluff</td>\n",
       "      <td>30</td>\n",
       "      <td>NZ</td>\n",
       "      <td>1650910709</td>\n",
       "      <td>66</td>\n",
       "      <td>-46.6000</td>\n",
       "      <td>168.3333</td>\n",
       "      <td>283.60</td>\n",
       "      <td>10.48</td>\n",
       "    </tr>\n",
       "    <tr>\n",
       "      <th>2</th>\n",
       "      <td>saskylakh</td>\n",
       "      <td>83</td>\n",
       "      <td>RU</td>\n",
       "      <td>1650910706</td>\n",
       "      <td>100</td>\n",
       "      <td>71.9167</td>\n",
       "      <td>114.0833</td>\n",
       "      <td>250.63</td>\n",
       "      <td>1.71</td>\n",
       "    </tr>\n",
       "    <tr>\n",
       "      <th>3</th>\n",
       "      <td>ostrovnoy</td>\n",
       "      <td>100</td>\n",
       "      <td>RU</td>\n",
       "      <td>1650910725</td>\n",
       "      <td>98</td>\n",
       "      <td>68.0531</td>\n",
       "      <td>39.5131</td>\n",
       "      <td>274.33</td>\n",
       "      <td>1.92</td>\n",
       "    </tr>\n",
       "    <tr>\n",
       "      <th>4</th>\n",
       "      <td>ushuaia</td>\n",
       "      <td>100</td>\n",
       "      <td>AR</td>\n",
       "      <td>1650910699</td>\n",
       "      <td>67</td>\n",
       "      <td>-54.8000</td>\n",
       "      <td>-68.3000</td>\n",
       "      <td>278.94</td>\n",
       "      <td>1.50</td>\n",
       "    </tr>\n",
       "  </tbody>\n",
       "</table>\n",
       "</div>"
      ],
      "text/plain": [
       "        City  Cloudiness Country        Date  Humidity      Lat       Lng  \\\n",
       "0    talnakh          94      RU  1650910725        97  69.4865   88.3972   \n",
       "1      bluff          30      NZ  1650910709        66 -46.6000  168.3333   \n",
       "2  saskylakh          83      RU  1650910706       100  71.9167  114.0833   \n",
       "3  ostrovnoy         100      RU  1650910725        98  68.0531   39.5131   \n",
       "4    ushuaia         100      AR  1650910699        67 -54.8000  -68.3000   \n",
       "\n",
       "   Max Temp  Wind Speed  \n",
       "0    254.93        1.81  \n",
       "1    283.60       10.48  \n",
       "2    250.63        1.71  \n",
       "3    274.33        1.92  \n",
       "4    278.94        1.50  "
      ]
     },
     "execution_count": 9,
     "metadata": {},
     "output_type": "execute_result"
    }
   ],
   "source": [
    "weather = pd.read_csv(\"weather_df.csv\")\n",
    "weather_dataframe = pd.DataFrame(weather)\n",
    "del weather_dataframe[\"Unnamed: 0\"]\n",
    "weather_dataframe.head()"
   ]
  },
  {
   "cell_type": "code",
   "execution_count": 10,
   "metadata": {},
   "outputs": [
    {
     "data": {
      "text/html": [
       "<div>\n",
       "<style scoped>\n",
       "    .dataframe tbody tr th:only-of-type {\n",
       "        vertical-align: middle;\n",
       "    }\n",
       "\n",
       "    .dataframe tbody tr th {\n",
       "        vertical-align: top;\n",
       "    }\n",
       "\n",
       "    .dataframe thead th {\n",
       "        text-align: right;\n",
       "    }\n",
       "</style>\n",
       "<table border=\"1\" class=\"dataframe\">\n",
       "  <thead>\n",
       "    <tr style=\"text-align: right;\">\n",
       "      <th></th>\n",
       "      <th>Cloudiness</th>\n",
       "      <th>Date</th>\n",
       "      <th>Humidity</th>\n",
       "      <th>Lat</th>\n",
       "      <th>Lng</th>\n",
       "      <th>Max Temp</th>\n",
       "      <th>Wind Speed</th>\n",
       "    </tr>\n",
       "  </thead>\n",
       "  <tbody>\n",
       "    <tr>\n",
       "      <th>count</th>\n",
       "      <td>579.000000</td>\n",
       "      <td>5.790000e+02</td>\n",
       "      <td>579.000000</td>\n",
       "      <td>579.000000</td>\n",
       "      <td>579.000000</td>\n",
       "      <td>579.000000</td>\n",
       "      <td>579.000000</td>\n",
       "    </tr>\n",
       "    <tr>\n",
       "      <th>mean</th>\n",
       "      <td>60.756477</td>\n",
       "      <td>1.650911e+09</td>\n",
       "      <td>70.794473</td>\n",
       "      <td>21.047880</td>\n",
       "      <td>15.619344</td>\n",
       "      <td>289.733817</td>\n",
       "      <td>3.672453</td>\n",
       "    </tr>\n",
       "    <tr>\n",
       "      <th>std</th>\n",
       "      <td>37.004738</td>\n",
       "      <td>9.209580e+01</td>\n",
       "      <td>21.489377</td>\n",
       "      <td>33.160937</td>\n",
       "      <td>88.556128</td>\n",
       "      <td>12.477911</td>\n",
       "      <td>2.425135</td>\n",
       "    </tr>\n",
       "    <tr>\n",
       "      <th>min</th>\n",
       "      <td>0.000000</td>\n",
       "      <td>1.650910e+09</td>\n",
       "      <td>8.000000</td>\n",
       "      <td>-54.800000</td>\n",
       "      <td>-179.166700</td>\n",
       "      <td>250.110000</td>\n",
       "      <td>0.000000</td>\n",
       "    </tr>\n",
       "    <tr>\n",
       "      <th>25%</th>\n",
       "      <td>26.000000</td>\n",
       "      <td>1.650911e+09</td>\n",
       "      <td>60.000000</td>\n",
       "      <td>-7.305600</td>\n",
       "      <td>-64.629200</td>\n",
       "      <td>282.460000</td>\n",
       "      <td>1.870000</td>\n",
       "    </tr>\n",
       "    <tr>\n",
       "      <th>50%</th>\n",
       "      <td>75.000000</td>\n",
       "      <td>1.650911e+09</td>\n",
       "      <td>75.000000</td>\n",
       "      <td>25.850000</td>\n",
       "      <td>18.423200</td>\n",
       "      <td>292.190000</td>\n",
       "      <td>3.090000</td>\n",
       "    </tr>\n",
       "    <tr>\n",
       "      <th>75%</th>\n",
       "      <td>98.000000</td>\n",
       "      <td>1.650911e+09</td>\n",
       "      <td>87.000000</td>\n",
       "      <td>49.805150</td>\n",
       "      <td>91.595250</td>\n",
       "      <td>299.150000</td>\n",
       "      <td>5.110000</td>\n",
       "    </tr>\n",
       "    <tr>\n",
       "      <th>max</th>\n",
       "      <td>100.000000</td>\n",
       "      <td>1.650911e+09</td>\n",
       "      <td>100.000000</td>\n",
       "      <td>78.218600</td>\n",
       "      <td>179.316700</td>\n",
       "      <td>315.250000</td>\n",
       "      <td>13.380000</td>\n",
       "    </tr>\n",
       "  </tbody>\n",
       "</table>\n",
       "</div>"
      ],
      "text/plain": [
       "       Cloudiness          Date    Humidity         Lat         Lng  \\\n",
       "count  579.000000  5.790000e+02  579.000000  579.000000  579.000000   \n",
       "mean    60.756477  1.650911e+09   70.794473   21.047880   15.619344   \n",
       "std     37.004738  9.209580e+01   21.489377   33.160937   88.556128   \n",
       "min      0.000000  1.650910e+09    8.000000  -54.800000 -179.166700   \n",
       "25%     26.000000  1.650911e+09   60.000000   -7.305600  -64.629200   \n",
       "50%     75.000000  1.650911e+09   75.000000   25.850000   18.423200   \n",
       "75%     98.000000  1.650911e+09   87.000000   49.805150   91.595250   \n",
       "max    100.000000  1.650911e+09  100.000000   78.218600  179.316700   \n",
       "\n",
       "         Max Temp  Wind Speed  \n",
       "count  579.000000  579.000000  \n",
       "mean   289.733817    3.672453  \n",
       "std     12.477911    2.425135  \n",
       "min    250.110000    0.000000  \n",
       "25%    282.460000    1.870000  \n",
       "50%    292.190000    3.090000  \n",
       "75%    299.150000    5.110000  \n",
       "max    315.250000   13.380000  "
      ]
     },
     "execution_count": 10,
     "metadata": {},
     "output_type": "execute_result"
    }
   ],
   "source": [
    "weather_dataframe.describe()"
   ]
  },
  {
   "cell_type": "markdown",
   "metadata": {},
   "source": [
    "## Inspect the data and remove the cities where the humidity > 100%.\n",
    "----\n",
    "Skip this step if there are no cities that have humidity > 100%. "
   ]
  },
  {
   "cell_type": "code",
   "execution_count": 11,
   "metadata": {},
   "outputs": [
    {
     "data": {
      "text/plain": [
       "Int64Index([], dtype='int64')"
      ]
     },
     "execution_count": 11,
     "metadata": {},
     "output_type": "execute_result"
    }
   ],
   "source": [
    "city_humidity = weather_dataframe[(weather_dataframe[\"Humidity\"]> 100)].index\n",
    "city_humidity"
   ]
  },
  {
   "cell_type": "code",
   "execution_count": 12,
   "metadata": {},
   "outputs": [
    {
     "data": {
      "text/html": [
       "<div>\n",
       "<style scoped>\n",
       "    .dataframe tbody tr th:only-of-type {\n",
       "        vertical-align: middle;\n",
       "    }\n",
       "\n",
       "    .dataframe tbody tr th {\n",
       "        vertical-align: top;\n",
       "    }\n",
       "\n",
       "    .dataframe thead th {\n",
       "        text-align: right;\n",
       "    }\n",
       "</style>\n",
       "<table border=\"1\" class=\"dataframe\">\n",
       "  <thead>\n",
       "    <tr style=\"text-align: right;\">\n",
       "      <th></th>\n",
       "      <th>City</th>\n",
       "      <th>Cloudiness</th>\n",
       "      <th>Country</th>\n",
       "      <th>Date</th>\n",
       "      <th>Humidity</th>\n",
       "      <th>Lat</th>\n",
       "      <th>Lng</th>\n",
       "      <th>Max Temp</th>\n",
       "      <th>Wind Speed</th>\n",
       "    </tr>\n",
       "  </thead>\n",
       "  <tbody>\n",
       "    <tr>\n",
       "      <th>0</th>\n",
       "      <td>talnakh</td>\n",
       "      <td>94</td>\n",
       "      <td>RU</td>\n",
       "      <td>1650910725</td>\n",
       "      <td>97</td>\n",
       "      <td>69.4865</td>\n",
       "      <td>88.3972</td>\n",
       "      <td>254.93</td>\n",
       "      <td>1.81</td>\n",
       "    </tr>\n",
       "    <tr>\n",
       "      <th>1</th>\n",
       "      <td>bluff</td>\n",
       "      <td>30</td>\n",
       "      <td>NZ</td>\n",
       "      <td>1650910709</td>\n",
       "      <td>66</td>\n",
       "      <td>-46.6000</td>\n",
       "      <td>168.3333</td>\n",
       "      <td>283.60</td>\n",
       "      <td>10.48</td>\n",
       "    </tr>\n",
       "    <tr>\n",
       "      <th>2</th>\n",
       "      <td>saskylakh</td>\n",
       "      <td>83</td>\n",
       "      <td>RU</td>\n",
       "      <td>1650910706</td>\n",
       "      <td>100</td>\n",
       "      <td>71.9167</td>\n",
       "      <td>114.0833</td>\n",
       "      <td>250.63</td>\n",
       "      <td>1.71</td>\n",
       "    </tr>\n",
       "    <tr>\n",
       "      <th>3</th>\n",
       "      <td>ostrovnoy</td>\n",
       "      <td>100</td>\n",
       "      <td>RU</td>\n",
       "      <td>1650910725</td>\n",
       "      <td>98</td>\n",
       "      <td>68.0531</td>\n",
       "      <td>39.5131</td>\n",
       "      <td>274.33</td>\n",
       "      <td>1.92</td>\n",
       "    </tr>\n",
       "    <tr>\n",
       "      <th>4</th>\n",
       "      <td>ushuaia</td>\n",
       "      <td>100</td>\n",
       "      <td>AR</td>\n",
       "      <td>1650910699</td>\n",
       "      <td>67</td>\n",
       "      <td>-54.8000</td>\n",
       "      <td>-68.3000</td>\n",
       "      <td>278.94</td>\n",
       "      <td>1.50</td>\n",
       "    </tr>\n",
       "  </tbody>\n",
       "</table>\n",
       "</div>"
      ],
      "text/plain": [
       "        City  Cloudiness Country        Date  Humidity      Lat       Lng  \\\n",
       "0    talnakh          94      RU  1650910725        97  69.4865   88.3972   \n",
       "1      bluff          30      NZ  1650910709        66 -46.6000  168.3333   \n",
       "2  saskylakh          83      RU  1650910706       100  71.9167  114.0833   \n",
       "3  ostrovnoy         100      RU  1650910725        98  68.0531   39.5131   \n",
       "4    ushuaia         100      AR  1650910699        67 -54.8000  -68.3000   \n",
       "\n",
       "   Max Temp  Wind Speed  \n",
       "0    254.93        1.81  \n",
       "1    283.60       10.48  \n",
       "2    250.63        1.71  \n",
       "3    274.33        1.92  \n",
       "4    278.94        1.50  "
      ]
     },
     "execution_count": 12,
     "metadata": {},
     "output_type": "execute_result"
    }
   ],
   "source": [
    "city_humidity = weather_dataframe.groupby([\"Humidity\"]).head()\n",
    "city_humidity.head(5)"
   ]
  },
  {
   "cell_type": "code",
   "execution_count": 13,
   "metadata": {},
   "outputs": [
    {
     "data": {
      "text/html": [
       "<div>\n",
       "<style scoped>\n",
       "    .dataframe tbody tr th:only-of-type {\n",
       "        vertical-align: middle;\n",
       "    }\n",
       "\n",
       "    .dataframe tbody tr th {\n",
       "        vertical-align: top;\n",
       "    }\n",
       "\n",
       "    .dataframe thead th {\n",
       "        text-align: right;\n",
       "    }\n",
       "</style>\n",
       "<table border=\"1\" class=\"dataframe\">\n",
       "  <thead>\n",
       "    <tr style=\"text-align: right;\">\n",
       "      <th></th>\n",
       "      <th>City</th>\n",
       "      <th>Cloudiness</th>\n",
       "      <th>Country</th>\n",
       "      <th>Date</th>\n",
       "      <th>Humidity</th>\n",
       "      <th>Lat</th>\n",
       "      <th>Lng</th>\n",
       "      <th>Max Temp</th>\n",
       "      <th>Wind Speed</th>\n",
       "    </tr>\n",
       "  </thead>\n",
       "  <tbody>\n",
       "  </tbody>\n",
       "</table>\n",
       "</div>"
      ],
      "text/plain": [
       "Empty DataFrame\n",
       "Columns: [City, Cloudiness, Country, Date, Humidity, Lat, Lng, Max Temp, Wind Speed]\n",
       "Index: []"
      ]
     },
     "execution_count": 13,
     "metadata": {},
     "output_type": "execute_result"
    }
   ],
   "source": [
    "#  Get the indices of cities that have humidity over 100%.\n",
    "above_humidity = pd.DataFrame(city_humidity.loc[city_humidity['Humidity']>100,:])\n",
    "above_humidity.head(5)"
   ]
  },
  {
   "cell_type": "code",
   "execution_count": 14,
   "metadata": {},
   "outputs": [],
   "source": [
    "# Make a new DataFrame equal to the city data to drop all humidity outliers by index.\n",
    "# Passing \"inplace=False\" will make a copy of the city_data DataFrame, which we call \"clean_city_data\"."
   ]
  },
  {
   "cell_type": "markdown",
   "metadata": {},
   "source": [
    "## Plotting the Data\n",
    "* Use proper labeling of the plots using plot titles (including date of analysis) and axes labels.\n",
    "* Save the plotted figures as .pngs."
   ]
  },
  {
   "cell_type": "markdown",
   "metadata": {},
   "source": [
    "## Latitude vs. Temperature Plot"
   ]
  },
  {
   "cell_type": "code",
   "execution_count": 15,
   "metadata": {},
   "outputs": [
    {
     "data": {
      "image/png": "[encoded data removed]",
      "text/plain": [
       "<Figure size 432x288 with 1 Axes>"
      ]
     },
     "metadata": {
      "needs_background": "light"
     },
     "output_type": "display_data"
    },
    {
     "name": "stdout",
     "output_type": "stream",
     "text": [
      "Temperatures appear to drop with increasing latitudes.\n"
     ]
    }
   ],
   "source": [
    "plt.scatter(weather_dataframe[\"Lat\"],weather_dataframe[\"Max Temp\"],edgecolors=\"black\",facecolors=\"red\")\n",
    "plt.title(\"City Latitude vs. Max Temperature (4/24/22)\")\n",
    "plt.xlabel(\"Latitude\")\n",
    "plt.ylabel(\"Max Temperature (F)\")\n",
    "plt.grid (b=True,which=\"major\",axis=\"both\",linestyle=\"-\",color=\"black\")\n",
    "plt.savefig(\"output_data/fig1.png\")\n",
    "plt.show()\n",
    "print(\"Temperatures appear to drop with increasing latitudes.\")"
   ]
  },
  {
   "cell_type": "markdown",
   "metadata": {},
   "source": [
    "## Latitude vs. Humidity Plot"
   ]
  },
  {
   "cell_type": "code",
   "execution_count": 16,
   "metadata": {},
   "outputs": [
    {
     "data": {
      "image/png": "[encoded data removed]",
      "text/plain": [
       "<Figure size 432x288 with 1 Axes>"
      ]
     },
     "metadata": {
      "needs_background": "light"
     },
     "output_type": "display_data"
    },
    {
     "name": "stdout",
     "output_type": "stream",
     "text": [
      "Humidity inreases at higher latitudes.\n"
     ]
    }
   ],
   "source": [
    "plt.scatter(weather_dataframe[\"Lat\"],weather_dataframe[\"Humidity\"],edgecolors=\"black\",facecolors=\"purple\")\n",
    "plt.title(\"City Latitude vs. Humidity (4/24/22)\")\n",
    "plt.xlabel(\"Latitude\")\n",
    "plt.ylabel(\"Humidity (%)\")\n",
    "plt.ylim(15,105)\n",
    "plt.grid (b=True,which=\"major\",axis=\"both\",linestyle=\"-\",color=\"black\")\n",
    "plt.savefig(\"output_data/fig2.png\")\n",
    "plt.show()\n",
    "print(\"Humidity inreases at higher latitudes.\")"
   ]
  },
  {
   "cell_type": "markdown",
   "metadata": {},
   "source": [
    "## Latitude vs. Cloudiness Plot"
   ]
  },
  {
   "cell_type": "code",
   "execution_count": 17,
   "metadata": {},
   "outputs": [
    {
     "data": {
      "image/png": "[encoded data removed]",
      "text/plain": [
       "<Figure size 432x288 with 1 Axes>"
      ]
     },
     "metadata": {
      "needs_background": "light"
     },
     "output_type": "display_data"
    },
    {
     "name": "stdout",
     "output_type": "stream",
     "text": [
      "Cloudiness appears widely distributed across the varying latitudes.\n"
     ]
    }
   ],
   "source": [
    "plt.scatter(weather_dataframe[\"Lat\"],weather_dataframe[\"Cloudiness\"],edgecolors=\"black\",facecolors=\"green\")\n",
    "plt.title(\"City Latitude vs. Cloudiness (4/24/22)\")\n",
    "plt.xlabel(\"Latitude\")\n",
    "plt.ylabel(\"Cloudiness\")\n",
    "plt.grid (b=True,which=\"major\",axis=\"both\",linestyle=\"-\",color=\"black\")\n",
    "plt.savefig(\"output_data/fig3.png\")\n",
    "plt.show()\n",
    "print(\"Cloudiness appears widely distributed across the varying latitudes.\")"
   ]
  },
  {
   "cell_type": "markdown",
   "metadata": {},
   "source": [
    "## Latitude vs. Wind Speed Plot"
   ]
  },
  {
   "cell_type": "code",
   "execution_count": 18,
   "metadata": {},
   "outputs": [
    {
     "data": {
      "image/png": "[encoded data removed]",
      "text/plain": [
       "<Figure size 432x288 with 1 Axes>"
      ]
     },
     "metadata": {
      "needs_background": "light"
     },
     "output_type": "display_data"
    },
    {
     "name": "stdout",
     "output_type": "stream",
     "text": [
      "Wind speeds are widely ditributed at varying latitudes.\n"
     ]
    }
   ],
   "source": [
    "plt.scatter(weather_dataframe[\"Lat\"],weather_dataframe[\"Wind Speed\"],edgecolors=\"black\",facecolors=\"blue\")\n",
    "plt.title(\"City Latitude vs. Wind Speed (4/24/22)\")\n",
    "plt.xlabel(\"Latitude\")\n",
    "plt.ylabel(\"Wind Speed (mph)\")\n",
    "plt.ylim(-2,34)\n",
    "plt.grid (b=True,which=\"major\",axis=\"both\",linestyle=\"-\",color=\"black\")\n",
    "plt.savefig(\"output_data/fig4.png\")\n",
    "plt.show()\n",
    "print(\"Wind speeds are widely ditributed at varying latitudes.\")"
   ]
  },
  {
   "cell_type": "markdown",
   "metadata": {},
   "source": [
    "## Linear Regression"
   ]
  },
  {
   "cell_type": "code",
   "execution_count": 19,
   "metadata": {},
   "outputs": [],
   "source": [
    "northern_hemisphere = weather_dataframe.loc[pd.to_numeric(weather_dataframe[\"Lat\"]).astype(float) > 0, :]\n",
    "southern_hemisphere = weather_dataframe.loc[pd.to_numeric(weather_dataframe[\"Lat\"]).astype(float) < 0, :]"
   ]
  },
  {
   "cell_type": "markdown",
   "metadata": {},
   "source": [
    "####  Northern Hemisphere - Max Temp vs. Latitude Linear Regression"
   ]
  },
  {
   "cell_type": "code",
   "execution_count": 20,
   "metadata": {},
   "outputs": [
    {
     "name": "stdout",
     "output_type": "stream",
     "text": [
      "y = -0.6x + 310.98\n",
      "The r-squared is: -0.8646726466178026\n"
     ]
    },
    {
     "data": {
      "image/png": "[encoded data removed]",
      "text/plain": [
       "<Figure size 432x288 with 1 Axes>"
      ]
     },
     "metadata": {
      "needs_background": "light"
     },
     "output_type": "display_data"
    },
    {
     "name": "stdout",
     "output_type": "stream",
     "text": [
      "Temperatures in northern hemisphere decrease as latitude moves above zero.\n"
     ]
    }
   ],
   "source": [
    "x_values = pd.to_numeric(northern_hemisphere['Lat']).astype(float)\n",
    "y_values = pd.to_numeric(northern_hemisphere['Max Temp']).astype(float)\n",
    "(slope, intercept, rvalue, pvalue, stderr) = linregress(x_values, y_values)\n",
    "regress_values = x_values * slope + intercept\n",
    "\n",
    "# Create line equation string\n",
    "line_eq = \"y = \" + str(round(slope,2)) + \"x + \" + str(round(intercept,2))\n",
    "print(f\"{line_eq}\")\n",
    "\n",
    "# Create Plot\n",
    "plt.scatter(x_values,y_values)\n",
    "plt.plot(x_values,regress_values,\"r-\")\n",
    "\n",
    "# Label plot and annotate the line equation\n",
    "plt.xlabel('Latitude')\n",
    "plt.ylabel('Max Temp')\n",
    "plt.annotate(line_eq,(5,255),fontsize=14,color=\"red\")\n",
    "\n",
    "# Print r value\n",
    "print(f\"The r-squared is: {rvalue}\")\n",
    "\n",
    "# Show plot\n",
    "plt.show()\n",
    "print(\"Temperatures in northern hemisphere decrease as latitude moves above zero.\")"
   ]
  },
  {
   "cell_type": "markdown",
   "metadata": {},
   "source": [
    "####  Southern Hemisphere - Max Temp vs. Latitude Linear Regression"
   ]
  },
  {
   "cell_type": "code",
   "execution_count": 21,
   "metadata": {},
   "outputs": [
    {
     "name": "stdout",
     "output_type": "stream",
     "text": [
      "y = 0.34x + 301.71\n",
      "The r-squared is: 0.7456245657001849\n"
     ]
    },
    {
     "data": {
      "image/png": "[encoded data removed]",
      "text/plain": [
       "<Figure size 432x288 with 1 Axes>"
      ]
     },
     "metadata": {
      "needs_background": "light"
     },
     "output_type": "display_data"
    },
    {
     "name": "stdout",
     "output_type": "stream",
     "text": [
      "Temperatures in southern hemisphere increase as latitude moves closer zero.\n"
     ]
    }
   ],
   "source": [
    "x_values = pd.to_numeric(southern_hemisphere['Lat']).astype(float)\n",
    "y_values = pd.to_numeric(southern_hemisphere['Max Temp']).astype(float)\n",
    "(slope, intercept, rvalue, pvalue, stderr) = linregress(x_values, y_values)\n",
    "regress_values = x_values * slope + intercept\n",
    "\n",
    "# Create line equation string\n",
    "line_eq = \"y = \" + str(round(slope,2)) + \"x + \" + str(round(intercept,2))\n",
    "print(f\"{line_eq}\")\n",
    "\n",
    "# Create Plot\n",
    "plt.scatter(x_values,y_values)\n",
    "plt.plot(x_values,regress_values,\"r-\")\n",
    "\n",
    "# Label plot and annotate the line equation\n",
    "plt.xlabel('Latitude')\n",
    "plt.ylabel('Max Temp')\n",
    "plt.annotate(line_eq,(-48,278),fontsize=14,color=\"red\")\n",
    "\n",
    "# Print r value\n",
    "print(f\"The r-squared is: {rvalue}\")\n",
    "\n",
    "# Show plot\n",
    "plt.show()\n",
    "print(\"Temperatures in southern hemisphere increase as latitude moves closer zero.\")"
   ]
  },
  {
   "cell_type": "markdown",
   "metadata": {},
   "source": [
    "####  Northern Hemisphere - Humidity (%) vs. Latitude Linear Regression"
   ]
  },
  {
   "cell_type": "code",
   "execution_count": 22,
   "metadata": {},
   "outputs": [
    {
     "name": "stdout",
     "output_type": "stream",
     "text": [
      "y = 0.39x + 52.99\n",
      "The r-squared is: 0.3340314572983874\n"
     ]
    },
    {
     "data": {
      "image/png": "[encoded data removed]",
      "text/plain": [
       "<Figure size 432x288 with 1 Axes>"
      ]
     },
     "metadata": {
      "needs_background": "light"
     },
     "output_type": "display_data"
    },
    {
     "name": "stdout",
     "output_type": "stream",
     "text": [
      "Humidity increases in northern hemisphere as latitude moves above zero.\n"
     ]
    }
   ],
   "source": [
    "x_values = pd.to_numeric(northern_hemisphere['Lat']).astype(float)\n",
    "y_values = pd.to_numeric(northern_hemisphere['Humidity']).astype(float)\n",
    "(slope, intercept, rvalue, pvalue, stderr) = linregress(x_values, y_values)\n",
    "regress_values = x_values * slope + intercept\n",
    "\n",
    "# Create line equation string\n",
    "line_eq = \"y = \" + str(round(slope,2)) + \"x + \" + str(round(intercept,2))\n",
    "print(f\"{line_eq}\")\n",
    "\n",
    "# Create Plot\n",
    "plt.scatter(x_values,y_values)\n",
    "plt.plot(x_values,regress_values,\"r-\")\n",
    "\n",
    "# Label plot and annotate the line equation\n",
    "plt.xlabel('Latitude')\n",
    "plt.ylabel('Humidity')\n",
    "plt.annotate(line_eq,(40,10),fontsize=14,color=\"red\")\n",
    "\n",
    "# Print r value\n",
    "print(f\"The r-squared is: {rvalue}\")\n",
    "\n",
    "# Show plot\n",
    "plt.show()\n",
    "print(\"Humidity increases in northern hemisphere as latitude moves above zero.\")"
   ]
  },
  {
   "cell_type": "markdown",
   "metadata": {},
   "source": [
    "####  Southern Hemisphere - Humidity (%) vs. Latitude Linear Regression"
   ]
  },
  {
   "cell_type": "code",
   "execution_count": 23,
   "metadata": {},
   "outputs": [
    {
     "name": "stdout",
     "output_type": "stream",
     "text": [
      "y = 0.22x + 80.14\n",
      "The r-squared is: 0.18817309732185\n"
     ]
    },
    {
     "data": {
      "image/png": "[encoded data removed]",
      "text/plain": [
       "<Figure size 432x288 with 1 Axes>"
      ]
     },
     "metadata": {
      "needs_background": "light"
     },
     "output_type": "display_data"
    },
    {
     "name": "stdout",
     "output_type": "stream",
     "text": [
      "Humidity appears similar in southern hemisphere as latitude moves toward zero.\n"
     ]
    }
   ],
   "source": [
    "x_values = pd.to_numeric(southern_hemisphere['Lat']).astype(float)\n",
    "y_values = pd.to_numeric(southern_hemisphere['Humidity']).astype(float)\n",
    "(slope, intercept, rvalue, pvalue, stderr) = linregress(x_values, y_values)\n",
    "regress_values = x_values * slope + intercept\n",
    "\n",
    "# Create line equation string\n",
    "line_eq = \"y = \" + str(round(slope,2)) + \"x + \" + str(round(intercept,2))\n",
    "print(f\"{line_eq}\")\n",
    "\n",
    "# Create Plot\n",
    "plt.scatter(x_values,y_values)\n",
    "plt.plot(x_values,regress_values,\"r-\")\n",
    "\n",
    "# Label plot and annotate the line equation\n",
    "plt.xlabel('Latitude')\n",
    "plt.ylabel('Humidity')\n",
    "plt.annotate(line_eq,(-55,50),fontsize=14,color=\"red\")\n",
    "\n",
    "# Print r value\n",
    "print(f\"The r-squared is: {rvalue}\")\n",
    "\n",
    "# Show plot\n",
    "plt.show()\n",
    "print(\"Humidity appears similar in southern hemisphere as latitude moves toward zero.\")"
   ]
  },
  {
   "cell_type": "markdown",
   "metadata": {},
   "source": [
    "####  Northern Hemisphere - Cloudiness (%) vs. Latitude Linear Regression"
   ]
  },
  {
   "cell_type": "code",
   "execution_count": 24,
   "metadata": {},
   "outputs": [
    {
     "name": "stdout",
     "output_type": "stream",
     "text": [
      "y = 0.54x + 38.17\n",
      "The r-squared is: 0.2873476585066557\n"
     ]
    },
    {
     "data": {
      "image/png": "[encoded data removed]",
      "text/plain": [
       "<Figure size 432x288 with 1 Axes>"
      ]
     },
     "metadata": {
      "needs_background": "light"
     },
     "output_type": "display_data"
    },
    {
     "name": "stdout",
     "output_type": "stream",
     "text": [
      "Cloudiness increases with higher latitudes in northern hemisphere.\n"
     ]
    }
   ],
   "source": [
    "x_values = pd.to_numeric(northern_hemisphere['Lat']).astype(float)\n",
    "y_values = pd.to_numeric(northern_hemisphere['Cloudiness']).astype(float)\n",
    "(slope, intercept, rvalue, pvalue, stderr) = linregress(x_values, y_values)\n",
    "regress_values = x_values * slope + intercept\n",
    "\n",
    "# Create line equation string\n",
    "line_eq = \"y = \" + str(round(slope,2)) + \"x + \" + str(round(intercept,2))\n",
    "print(f\"{line_eq}\")\n",
    "\n",
    "# Create Plot\n",
    "plt.scatter(x_values,y_values)\n",
    "plt.plot(x_values,regress_values,\"r-\")\n",
    "\n",
    "# Label plot and annotate the line equation\n",
    "plt.xlabel('Latitude')\n",
    "plt.ylabel('Cloudiness')\n",
    "plt.annotate(line_eq,(49,43),fontsize=14,color=\"red\")\n",
    "\n",
    "# Print r value\n",
    "print(f\"The r-squared is: {rvalue}\")\n",
    "\n",
    "# Show plot\n",
    "plt.show()\n",
    "print(\"Cloudiness increases with higher latitudes in northern hemisphere.\")"
   ]
  },
  {
   "cell_type": "markdown",
   "metadata": {},
   "source": [
    "####  Southern Hemisphere - Cloudiness (%) vs. Latitude Linear Regression"
   ]
  },
  {
   "cell_type": "code",
   "execution_count": 25,
   "metadata": {},
   "outputs": [
    {
     "name": "stdout",
     "output_type": "stream",
     "text": [
      "y = 0.51x + 72.87\n",
      "The r-squared is: 0.1943201532223292\n"
     ]
    },
    {
     "data": {
      "image/png": "[encoded data removed]",
      "text/plain": [
       "<Figure size 432x288 with 1 Axes>"
      ]
     },
     "metadata": {
      "needs_background": "light"
     },
     "output_type": "display_data"
    },
    {
     "name": "stdout",
     "output_type": "stream",
     "text": [
      "Cloudiness in the southern hemisphere decreases as latitude moves below zero.\n"
     ]
    }
   ],
   "source": [
    "x_values = pd.to_numeric(southern_hemisphere['Lat']).astype(float)\n",
    "y_values = pd.to_numeric(southern_hemisphere['Cloudiness']).astype(float)\n",
    "(slope, intercept, rvalue, pvalue, stderr) = linregress(x_values, y_values)\n",
    "regress_values = x_values * slope + intercept\n",
    "\n",
    "# Create line equation string\n",
    "line_eq = \"y = \" + str(round(slope,2)) + \"x + \" + str(round(intercept,2))\n",
    "print(f\"{line_eq}\")\n",
    "\n",
    "# Create Plot\n",
    "plt.scatter(x_values,y_values)\n",
    "plt.plot(x_values,regress_values,\"r-\")\n",
    "\n",
    "# Label plot and annotate the line equation\n",
    "plt.xlabel('Latitude')\n",
    "plt.ylabel('Cloudiness')\n",
    "plt.annotate(line_eq,(-55,60),fontsize=14,color=\"red\")\n",
    "\n",
    "# Print r value\n",
    "print(f\"The r-squared is: {rvalue}\")\n",
    "\n",
    "# Show plot\n",
    "plt.show()\n",
    "print(\"Cloudiness in the southern hemisphere decreases as latitude moves below zero.\")"
   ]
  },
  {
   "cell_type": "markdown",
   "metadata": {},
   "source": [
    "####  Northern Hemisphere - Wind Speed (mph) vs. Latitude Linear Regression"
   ]
  },
  {
   "cell_type": "code",
   "execution_count": 26,
   "metadata": {},
   "outputs": [
    {
     "name": "stdout",
     "output_type": "stream",
     "text": [
      "y = 0.01x + 3.44\n",
      "The r-squared is: 0.060372323897914866\n"
     ]
    },
    {
     "data": {
      "image/png": "[encoded data removed]",
      "text/plain": [
       "<Figure size 432x288 with 1 Axes>"
      ]
     },
     "metadata": {
      "needs_background": "light"
     },
     "output_type": "display_data"
    },
    {
     "name": "stdout",
     "output_type": "stream",
     "text": [
      "In northern hemisphere, wind speeds remains simiiar as latitude increases above zero.\n"
     ]
    }
   ],
   "source": [
    "x_values = pd.to_numeric(northern_hemisphere['Lat']).astype(float)\n",
    "y_values = pd.to_numeric(northern_hemisphere['Wind Speed']).astype(float)\n",
    "(slope, intercept, rvalue, pvalue, stderr) = linregress(x_values, y_values)\n",
    "regress_values = x_values * slope + intercept\n",
    "\n",
    "# Create line equation string\n",
    "line_eq = \"y = \" + str(round(slope,2)) + \"x + \" + str(round(intercept,2))\n",
    "print(f\"{line_eq}\")\n",
    "\n",
    "# Create Plot\n",
    "plt.scatter(x_values,y_values)\n",
    "plt.plot(x_values,regress_values,\"r-\")\n",
    "\n",
    "# Label plot and annotate the line equation\n",
    "plt.xlabel('Latitude')\n",
    "plt.ylabel('Wind Speed')\n",
    "plt.annotate(line_eq,(8,10),fontsize=14,color=\"red\")\n",
    "\n",
    "# Print r value\n",
    "print(f\"The r-squared is: {rvalue}\")\n",
    "\n",
    "# Show plot\n",
    "plt.show()\n",
    "print(\"In northern hemisphere, wind speeds remains simiiar as latitude increases above zero.\")"
   ]
  },
  {
   "cell_type": "markdown",
   "metadata": {},
   "source": [
    "####  Southern Hemisphere - Wind Speed (mph) vs. Latitude Linear Regression"
   ]
  },
  {
   "cell_type": "code",
   "execution_count": 28,
   "metadata": {},
   "outputs": [
    {
     "name": "stdout",
     "output_type": "stream",
     "text": [
      "y = -0.07x + 2.19\n",
      "The r-squared is: -0.3695170939683793\n"
     ]
    },
    {
     "data": {
      "image/png": "[encoded data removed]",
      "text/plain": [
       "<Figure size 432x288 with 1 Axes>"
      ]
     },
     "metadata": {
      "needs_background": "light"
     },
     "output_type": "display_data"
    },
    {
     "name": "stdout",
     "output_type": "stream",
     "text": [
      "The wind speeds lower in southern hemisphere as latitude move closer to zero.\n"
     ]
    }
   ],
   "source": [
    "x_values = pd.to_numeric(southern_hemisphere['Lat']).astype(float)\n",
    "y_values = pd.to_numeric(southern_hemisphere['Wind Speed']).astype(float)\n",
    "(slope, intercept, rvalue, pvalue, stderr) = linregress(x_values, y_values)\n",
    "regress_values = x_values * slope + intercept\n",
    "\n",
    "# Create line equation string\n",
    "line_eq = \"y = \" + str(round(slope,2)) + \"x + \" + str(round(intercept,2))\n",
    "print(f\"{line_eq}\")\n",
    "\n",
    "# Create Plot\n",
    "plt.scatter(x_values,y_values)\n",
    "plt.plot(x_values,regress_values,\"r-\")\n",
    "\n",
    "# Label plot and annotate the line equation\n",
    "plt.xlabel('Latitude')\n",
    "plt.ylabel('Wind Speed')\n",
    "plt.annotate(line_eq,(-30,10),fontsize=14,color=\"red\")\n",
    "\n",
    "# Print r value\n",
    "print(f\"The r-squared is: {rvalue}\")\n",
    "\n",
    "# Show plot\n",
    "plt.show()\n",
    "print(\"The wind speeds lower in southern hemisphere as latitude move closer to zero.\")"
   ]
  },
  {
   "cell_type": "code",
   "execution_count": null,
   "metadata": {},
   "outputs": [],
   "source": []
  },
  {
   "cell_type": "code",
   "execution_count": null,
   "metadata": {},
   "outputs": [],
   "source": []
  }
 ],
 "metadata": {
  "anaconda-cloud": {},
  "kernel_info": {
   "name": "python3"
  },
  "kernelspec": {
   "display_name": "Python 3 (ipykernel)",
   "language": "python",
   "name": "python3"
  },
  "language_info": {
   "codemirror_mode": {
    "name": "ipython",
    "version": 3
   },
   "file_extension": ".py",
   "mimetype": "text/x-python",
   "name": "python",
   "nbconvert_exporter": "python",
   "pygments_lexer": "ipython3",
   "version": "3.9.7"
  },
  "latex_envs": {
   "LaTeX_envs_menu_present": true,
   "autoclose": false,
   "autocomplete": true,
   "bibliofile": "biblio.bib",
   "cite_by": "apalike",
   "current_citInitial": 1,
   "eqLabelWithNumbers": true,
   "eqNumInitial": 1,
   "hotkeys": {
    "equation": "Ctrl-E",
    "itemize": "Ctrl-I"
   },
   "labels_anchors": false,
   "latex_user_defs": false,
   "report_style_numbering": false,
   "user_envs_cfg": false
  },
  "nteract": {
   "version": "0.12.3"
  }
 },
 "nbformat": 4,
 "nbformat_minor": 2
}
