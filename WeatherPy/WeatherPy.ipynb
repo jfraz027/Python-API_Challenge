{
 "cells": [
  {
   "cell_type": "markdown",
   "metadata": {},
   "source": [
    "# WeatherPy\n",
    "----\n",
    "\n",
    "#### Observations\n",
    "\n",
    "Observation: The % of cloudiness and humidity appear to be more randomly distributed across latitudes compared to Temparature and wind speed which are more closely related along varying latitudes. \n",
    "\n",
    "#Observation: For northen hemisphere as you move further away from the 0 latitaude the temperature decreases. On the other hand, in the southern hempisphere, as you move closer to 0 latitude, the temperature increases.\n",
    "\n",
    "#Observation: "
   ]
  },
  {
   "cell_type": "code",
   "execution_count": 1,
   "metadata": {
    "scrolled": true
   },
   "outputs": [],
   "source": [
    "# Dependencies and Setup\n",
    "import matplotlib.pyplot as plt\n",
    "import pandas as pd\n",
    "import numpy as np\n",
    "import requests\n",
    "import time\n",
    "from scipy.stats import linregress\n",
    "\n",
    "# Import API key\n",
    "from api_keys import weather_api_key\n",
    "temp_units = \"imperial\"\n",
    "\n",
    "# Incorporated citipy to determine city based on latitude and longitude\n",
    "from citipy import citipy\n",
    "\n",
    "# Output File (CSV)\n",
    "#output_data_file = \"output/weather_dataframe.csv\"\n",
    "output_data_file = \"output_data/cities.csv\"\n",
    "\n",
    "# Range of latitudes and longitudes\n",
    "lat_range = (-90, 90)\n",
    "lng_range = (-180, 180)\n"
   ]
  },
  {
   "cell_type": "markdown",
   "metadata": {},
   "source": [
    "## Generate Cities List"
   ]
  },
  {
   "cell_type": "code",
   "execution_count": 2,
   "metadata": {},
   "outputs": [
    {
     "data": {
      "text/plain": [
       "617"
      ]
     },
     "execution_count": 2,
     "metadata": {},
     "output_type": "execute_result"
    }
   ],
   "source": [
    "# List for holding lat_lngs and cities\n",
    "lat_lngs = []\n",
    "cities = []\n",
    "\n",
    "# Create a set of random lat and lng combinations\n",
    "lats = np.random.uniform(lat_range[0], lat_range[1], size=1500)\n",
    "lngs = np.random.uniform(lng_range[0], lng_range[1], size=1500)\n",
    "\n",
    "lat_lngs = zip(lats, lngs)\n",
    "\n",
    "# Identify nearest city for each lat, lng combination\n",
    "for lat_lng in lat_lngs:\n",
    "    city = citipy.nearest_city(lat_lng[0], lat_lng[1]).city_name\n",
    "    \n",
    "# If the city is unique, then add it to a our cities list\n",
    "    if city not in cities:\n",
    "        cities.append(city)\n",
    "\n",
    "# Print the city count to confirm sufficient count\n",
    "len(cities)\n",
    "\n",
    "\n"
   ]
  },
  {
   "cell_type": "markdown",
   "metadata": {},
   "source": [
    "### Perform API Calls\n",
    "* Perform a weather check on each city using a series of successive API calls.\n",
    "* Include a print log of each city as it'sbeing processed (with the city number and city name).\n"
   ]
  },
  {
   "cell_type": "code",
   "execution_count": 3,
   "metadata": {},
   "outputs": [
    {
     "name": "stdout",
     "output_type": "stream",
     "text": [
      "City not found. Skipping...\n",
      "Processing Record 1 of Set 1 | bredasdorp\n",
      "Processing Record 2 of Set 1 | jamestown\n",
      "Processing Record 3 of Set 1 | talnakh\n",
      "Processing Record 4 of Set 1 | east london\n",
      "Processing Record 5 of Set 1 | alexandria\n",
      "Processing Record 6 of Set 1 | ushuaia\n",
      "Processing Record 7 of Set 1 | mahebourg\n",
      "Processing Record 8 of Set 1 | santa maria\n",
      "Processing Record 9 of Set 1 | busselton\n",
      "Processing Record 10 of Set 1 | cayenne\n",
      "Processing Record 11 of Set 1 | punta arenas\n",
      "Processing Record 12 of Set 1 | cherskiy\n",
      "City not found. Skipping...\n",
      "Processing Record 13 of Set 1 | saldanha\n",
      "Processing Record 14 of Set 1 | balkhash\n",
      "City not found. Skipping...\n",
      "Processing Record 15 of Set 1 | la rioja\n",
      "Processing Record 16 of Set 1 | tabatinga\n",
      "Processing Record 17 of Set 1 | tuktoyaktuk\n",
      "Processing Record 18 of Set 1 | komsomolskiy\n",
      "Processing Record 19 of Set 1 | correntina\n",
      "Processing Record 20 of Set 1 | doka\n",
      "Processing Record 21 of Set 1 | rio gallegos\n",
      "Processing Record 22 of Set 1 | hasaki\n",
      "Processing Record 23 of Set 1 | vaini\n",
      "City not found. Skipping...\n",
      "Processing Record 24 of Set 1 | bonthe\n",
      "Processing Record 25 of Set 1 | rikitea\n",
      "Processing Record 26 of Set 1 | nokha\n",
      "Processing Record 27 of Set 1 | lata\n",
      "Processing Record 28 of Set 1 | narsaq\n",
      "Processing Record 29 of Set 1 | dikson\n",
      "Processing Record 30 of Set 1 | colomi\n",
      "Processing Record 31 of Set 1 | hilo\n",
      "Processing Record 32 of Set 1 | la ronge\n",
      "Processing Record 33 of Set 1 | olavarria\n",
      "Processing Record 34 of Set 1 | aklavik\n",
      "Processing Record 35 of Set 1 | tuatapere\n",
      "Processing Record 36 of Set 1 | castro\n",
      "Processing Record 37 of Set 1 | lasa\n",
      "Processing Record 38 of Set 1 | ixtapa\n",
      "Processing Record 39 of Set 1 | chokurdakh\n",
      "Processing Record 40 of Set 1 | hofn\n",
      "Processing Record 41 of Set 1 | isangel\n",
      "Processing Record 42 of Set 1 | saint-joseph\n",
      "Processing Record 43 of Set 1 | lavrentiya\n",
      "Processing Record 44 of Set 1 | saint-philippe\n",
      "Processing Record 45 of Set 1 | port alfred\n",
      "Processing Record 46 of Set 1 | chalus\n",
      "Processing Record 47 of Set 1 | miraflores\n",
      "Processing Record 48 of Set 1 | mocuba\n",
      "Processing Record 49 of Set 1 | sao felix do xingu\n",
      "Processing Record 50 of Set 1 | wanning\n",
      "Processing Record 51 of Set 1 | calvinia\n",
      "Processing Record 1 of Set 2 | chuy\n",
      "Processing Record 2 of Set 2 | georgetown\n",
      "Processing Record 3 of Set 2 | bluff\n",
      "Processing Record 4 of Set 2 | milkovo\n",
      "Processing Record 5 of Set 2 | katsuura\n",
      "Processing Record 6 of Set 2 | saint-augustin\n",
      "Processing Record 7 of Set 2 | grindavik\n",
      "Processing Record 8 of Set 2 | ilulissat\n",
      "Processing Record 9 of Set 2 | san quintin\n",
      "Processing Record 10 of Set 2 | jumla\n",
      "Processing Record 11 of Set 2 | bandarbeyla\n",
      "Processing Record 12 of Set 2 | nanortalik\n",
      "City not found. Skipping...\n",
      "Processing Record 13 of Set 2 | bambous virieux\n",
      "Processing Record 14 of Set 2 | manoharpur\n",
      "Processing Record 15 of Set 2 | constantine\n",
      "Processing Record 16 of Set 2 | witu\n",
      "Processing Record 17 of Set 2 | mar del plata\n",
      "Processing Record 18 of Set 2 | carnarvon\n",
      "Processing Record 19 of Set 2 | hobart\n",
      "Processing Record 20 of Set 2 | butaritari\n",
      "Processing Record 21 of Set 2 | kodiak\n",
      "Processing Record 22 of Set 2 | sitka\n",
      "Processing Record 23 of Set 2 | salalah\n",
      "Processing Record 24 of Set 2 | kajaani\n",
      "Processing Record 25 of Set 2 | cabadiangan\n",
      "Processing Record 26 of Set 2 | kiruna\n",
      "Processing Record 27 of Set 2 | new norfolk\n",
      "Processing Record 28 of Set 2 | saint-francois\n",
      "Processing Record 29 of Set 2 | balsas\n",
      "Processing Record 30 of Set 2 | tazovskiy\n",
      "Processing Record 31 of Set 2 | hermanus\n",
      "Processing Record 32 of Set 2 | faya\n",
      "Processing Record 33 of Set 2 | myitkyina\n",
      "Processing Record 34 of Set 2 | matara\n",
      "Processing Record 35 of Set 2 | teguise\n",
      "City not found. Skipping...\n",
      "Processing Record 36 of Set 2 | pringsewu\n",
      "Processing Record 37 of Set 2 | atuona\n",
      "Processing Record 38 of Set 2 | codrington\n",
      "Processing Record 39 of Set 2 | daru\n",
      "Processing Record 40 of Set 2 | hernani\n",
      "Processing Record 41 of Set 2 | bayir\n",
      "Processing Record 42 of Set 2 | airai\n",
      "Processing Record 43 of Set 2 | kaitangata\n",
      "Processing Record 44 of Set 2 | barrow\n",
      "Processing Record 45 of Set 2 | edemissen\n",
      "Processing Record 46 of Set 2 | flinders\n",
      "Processing Record 47 of Set 2 | padang\n",
      "Processing Record 48 of Set 2 | laguna\n",
      "Processing Record 49 of Set 2 | tilichiki\n",
      "Processing Record 50 of Set 2 | beidao\n",
      "Processing Record 51 of Set 2 | yecla\n",
      "Processing Record 1 of Set 3 | oranjemund\n",
      "Processing Record 2 of Set 3 | arraial do cabo\n",
      "Processing Record 3 of Set 3 | marfino\n",
      "Processing Record 4 of Set 3 | bila\n",
      "Processing Record 5 of Set 3 | thompson\n",
      "Processing Record 6 of Set 3 | lodja\n",
      "Processing Record 7 of Set 3 | hithadhoo\n",
      "City not found. Skipping...\n",
      "Processing Record 8 of Set 3 | deep river\n",
      "Processing Record 9 of Set 3 | vestmanna\n",
      "Processing Record 10 of Set 3 | cabo san lucas\n",
      "Processing Record 11 of Set 3 | evensk\n",
      "Processing Record 12 of Set 3 | general roca\n",
      "Processing Record 13 of Set 3 | dickson\n",
      "Processing Record 14 of Set 3 | cape town\n",
      "City not found. Skipping...\n",
      "City not found. Skipping...\n",
      "Processing Record 15 of Set 3 | halifax\n",
      "Processing Record 16 of Set 3 | avarua\n",
      "Processing Record 17 of Set 3 | bethel\n",
      "Processing Record 18 of Set 3 | zhanaozen\n",
      "Processing Record 19 of Set 3 | shellbrook\n",
      "Processing Record 20 of Set 3 | coruripe\n",
      "Processing Record 21 of Set 3 | aquiraz\n",
      "Processing Record 22 of Set 3 | tevaitoa\n",
      "Processing Record 23 of Set 3 | kanye\n",
      "Processing Record 24 of Set 3 | crestview\n",
      "Processing Record 25 of Set 3 | ingham\n",
      "Processing Record 26 of Set 3 | tiksi\n",
      "Processing Record 27 of Set 3 | albany\n",
      "Processing Record 28 of Set 3 | leningradskiy\n",
      "Processing Record 29 of Set 3 | lithgow\n",
      "Processing Record 30 of Set 3 | guerrero negro\n",
      "Processing Record 31 of Set 3 | mataura\n",
      "Processing Record 32 of Set 3 | ancud\n",
      "Processing Record 33 of Set 3 | neiafu\n",
      "Processing Record 34 of Set 3 | palauig\n",
      "Processing Record 35 of Set 3 | weligama\n",
      "Processing Record 36 of Set 3 | altus\n",
      "Processing Record 37 of Set 3 | victoria\n",
      "Processing Record 38 of Set 3 | saskylakh\n",
      "Processing Record 39 of Set 3 | tubuala\n",
      "Processing Record 40 of Set 3 | boden\n",
      "City not found. Skipping...\n",
      "Processing Record 41 of Set 3 | sawakin\n",
      "City not found. Skipping...\n",
      "Processing Record 42 of Set 3 | yellowknife\n",
      "Processing Record 43 of Set 3 | vardo\n",
      "Processing Record 44 of Set 3 | beloha\n",
      "City not found. Skipping...\n",
      "Processing Record 45 of Set 3 | agirish\n",
      "Processing Record 46 of Set 3 | dingle\n",
      "Processing Record 47 of Set 3 | esperance\n",
      "Processing Record 48 of Set 3 | dwarka\n",
      "Processing Record 49 of Set 3 | kapaa\n",
      "Processing Record 50 of Set 3 | puerto escondido\n",
      "Processing Record 51 of Set 3 | christchurch\n",
      "Processing Record 1 of Set 4 | tuy hoa\n",
      "Processing Record 2 of Set 4 | goderich\n",
      "City not found. Skipping...\n",
      "Processing Record 3 of Set 4 | la tuque\n",
      "Processing Record 4 of Set 4 | mucuri\n",
      "Processing Record 5 of Set 4 | alpena\n",
      "Processing Record 6 of Set 4 | vanimo\n",
      "Processing Record 7 of Set 4 | los llanos de aridane\n",
      "Processing Record 8 of Set 4 | madinat sittah uktubar\n",
      "Processing Record 9 of Set 4 | plettenberg bay\n",
      "Processing Record 10 of Set 4 | milazzo\n",
      "Processing Record 11 of Set 4 | shelburne\n",
      "Processing Record 12 of Set 4 | russell\n",
      "City not found. Skipping...\n",
      "Processing Record 13 of Set 4 | pantai remis\n",
      "City not found. Skipping...\n",
      "City not found. Skipping...\n",
      "Processing Record 14 of Set 4 | luderitz\n",
      "Processing Record 15 of Set 4 | manokwari\n",
      "Processing Record 16 of Set 4 | najran\n",
      "Processing Record 17 of Set 4 | gamba\n",
      "Processing Record 18 of Set 4 | ponta do sol\n",
      "Processing Record 19 of Set 4 | avera\n",
      "Processing Record 20 of Set 4 | vila franca do campo\n",
      "City not found. Skipping...\n",
      "City not found. Skipping...\n",
      "City not found. Skipping...\n",
      "Processing Record 21 of Set 4 | khatanga\n",
      "Processing Record 22 of Set 4 | buala\n",
      "Processing Record 23 of Set 4 | dali\n",
      "Processing Record 24 of Set 4 | steinbach\n",
      "Processing Record 25 of Set 4 | puerto ayora\n",
      "Processing Record 26 of Set 4 | jacareacanga\n",
      "Processing Record 27 of Set 4 | gobabis\n",
      "Processing Record 28 of Set 4 | walvis bay\n",
      "Processing Record 29 of Set 4 | upernavik\n",
      "City not found. Skipping...\n",
      "Processing Record 30 of Set 4 | bowen\n",
      "Processing Record 31 of Set 4 | princeton\n",
      "Processing Record 32 of Set 4 | mount isa\n",
      "Processing Record 33 of Set 4 | ripon\n",
      "City not found. Skipping...\n"
     ]
    },
    {
     "name": "stdout",
     "output_type": "stream",
     "text": [
      "Processing Record 34 of Set 4 | port lincoln\n",
      "Processing Record 35 of Set 4 | alofi\n",
      "Processing Record 36 of Set 4 | guadalupe y calvo\n",
      "Processing Record 37 of Set 4 | binabalian\n",
      "Processing Record 38 of Set 4 | namibe\n",
      "Processing Record 39 of Set 4 | yarkovo\n",
      "Processing Record 40 of Set 4 | bagdarin\n",
      "Processing Record 41 of Set 4 | lebu\n",
      "Processing Record 42 of Set 4 | yumen\n",
      "Processing Record 43 of Set 4 | portland\n",
      "City not found. Skipping...\n",
      "Processing Record 44 of Set 4 | nola\n",
      "Processing Record 45 of Set 4 | kaka\n",
      "Processing Record 46 of Set 4 | bambanglipuro\n",
      "Processing Record 47 of Set 4 | lompoc\n",
      "Processing Record 48 of Set 4 | bengkulu\n",
      "Processing Record 49 of Set 4 | rapid valley\n",
      "Processing Record 50 of Set 4 | khani\n",
      "Processing Record 51 of Set 4 | bridlington\n",
      "Processing Record 1 of Set 5 | iquitos\n",
      "Processing Record 2 of Set 5 | strzelce krajenskie\n",
      "Processing Record 3 of Set 5 | batagay\n",
      "Processing Record 4 of Set 5 | nelson bay\n",
      "Processing Record 5 of Set 5 | hambantota\n",
      "Processing Record 6 of Set 5 | weyburn\n",
      "City not found. Skipping...\n",
      "Processing Record 7 of Set 5 | beringovskiy\n",
      "Processing Record 8 of Set 5 | ranau\n",
      "Processing Record 9 of Set 5 | alzamay\n",
      "Processing Record 10 of Set 5 | kattivakkam\n",
      "Processing Record 11 of Set 5 | norman wells\n",
      "Processing Record 12 of Set 5 | sao joao da barra\n",
      "City not found. Skipping...\n",
      "Processing Record 13 of Set 5 | chiang khong\n",
      "Processing Record 14 of Set 5 | zhangzhou\n",
      "City not found. Skipping...\n",
      "Processing Record 15 of Set 5 | klyuchi\n",
      "City not found. Skipping...\n",
      "Processing Record 16 of Set 5 | chicama\n",
      "Processing Record 17 of Set 5 | karangampel\n",
      "Processing Record 18 of Set 5 | muros\n",
      "Processing Record 19 of Set 5 | waddan\n",
      "Processing Record 20 of Set 5 | bandiagara\n",
      "Processing Record 21 of Set 5 | dalvik\n",
      "Processing Record 22 of Set 5 | grand gaube\n",
      "Processing Record 23 of Set 5 | kushima\n",
      "Processing Record 24 of Set 5 | lorengau\n",
      "Processing Record 25 of Set 5 | maarianhamina\n",
      "Processing Record 26 of Set 5 | grand-santi\n",
      "Processing Record 27 of Set 5 | mengcheng\n",
      "Processing Record 28 of Set 5 | college\n",
      "Processing Record 29 of Set 5 | xining\n",
      "Processing Record 30 of Set 5 | harlingen\n",
      "Processing Record 31 of Set 5 | souillac\n",
      "Processing Record 32 of Set 5 | rongcheng\n",
      "Processing Record 33 of Set 5 | pevek\n",
      "Processing Record 34 of Set 5 | xiaoshi\n",
      "Processing Record 35 of Set 5 | touros\n",
      "Processing Record 36 of Set 5 | thanyaburi\n",
      "Processing Record 37 of Set 5 | havre-saint-pierre\n",
      "Processing Record 38 of Set 5 | lagoa\n",
      "Processing Record 39 of Set 5 | qaanaaq\n",
      "Processing Record 40 of Set 5 | sulecin\n",
      "Processing Record 41 of Set 5 | albox\n",
      "City not found. Skipping...\n",
      "Processing Record 42 of Set 5 | shenkursk\n",
      "Processing Record 43 of Set 5 | iralaya\n",
      "Processing Record 44 of Set 5 | arcelia\n",
      "Processing Record 45 of Set 5 | hamilton\n",
      "Processing Record 46 of Set 5 | gunnedah\n",
      "Processing Record 47 of Set 5 | yei\n",
      "Processing Record 48 of Set 5 | tromso\n",
      "Processing Record 49 of Set 5 | floro\n",
      "Processing Record 50 of Set 5 | vestmannaeyjar\n",
      "Processing Record 51 of Set 5 | venice\n",
      "Processing Record 1 of Set 6 | taoudenni\n",
      "Processing Record 2 of Set 6 | yulara\n",
      "Processing Record 3 of Set 6 | praia\n",
      "Processing Record 4 of Set 6 | nouadhibou\n",
      "Processing Record 5 of Set 6 | waingapu\n",
      "Processing Record 6 of Set 6 | mushie\n",
      "City not found. Skipping...\n",
      "Processing Record 7 of Set 6 | kapuskasing\n",
      "Processing Record 8 of Set 6 | port elizabeth\n",
      "Processing Record 9 of Set 6 | jalingo\n",
      "Processing Record 10 of Set 6 | mangrol\n",
      "Processing Record 11 of Set 6 | vilyuysk\n",
      "Processing Record 12 of Set 6 | bathsheba\n",
      "Processing Record 13 of Set 6 | camacha\n",
      "City not found. Skipping...\n",
      "Processing Record 14 of Set 6 | ilinskoye-khovanskoye\n",
      "Processing Record 15 of Set 6 | senanga\n",
      "Processing Record 16 of Set 6 | araxa\n",
      "Processing Record 17 of Set 6 | puri\n",
      "Processing Record 18 of Set 6 | elze\n",
      "Processing Record 19 of Set 6 | constitucion\n",
      "Processing Record 20 of Set 6 | fairview\n",
      "Processing Record 21 of Set 6 | tessalit\n",
      "Processing Record 22 of Set 6 | ryotsu\n",
      "Processing Record 23 of Set 6 | karratha\n",
      "Processing Record 24 of Set 6 | novyy urengoy\n",
      "Processing Record 25 of Set 6 | ballina\n",
      "Processing Record 26 of Set 6 | sabang\n",
      "Processing Record 27 of Set 6 | saint george\n",
      "Processing Record 28 of Set 6 | zabol\n",
      "Processing Record 29 of Set 6 | borogontsy\n",
      "Processing Record 30 of Set 6 | cidreira\n",
      "Processing Record 31 of Set 6 | comodoro rivadavia\n",
      "City not found. Skipping...\n",
      "Processing Record 32 of Set 6 | tete\n",
      "Processing Record 33 of Set 6 | ostrovnoy\n",
      "Processing Record 34 of Set 6 | skotterud\n",
      "Processing Record 35 of Set 6 | surgut\n",
      "City not found. Skipping...\n",
      "Processing Record 36 of Set 6 | tasiilaq\n",
      "Processing Record 37 of Set 6 | jiangkou\n",
      "Processing Record 38 of Set 6 | manggar\n",
      "Processing Record 39 of Set 6 | kruisfontein\n",
      "City not found. Skipping...\n",
      "Processing Record 40 of Set 6 | hay river\n",
      "Processing Record 41 of Set 6 | pimentel\n",
      "Processing Record 42 of Set 6 | hirara\n",
      "Processing Record 43 of Set 6 | zyryanka\n",
      "Processing Record 44 of Set 6 | along\n",
      "Processing Record 45 of Set 6 | roald\n",
      "Processing Record 46 of Set 6 | parfino\n",
      "Processing Record 47 of Set 6 | flin flon\n",
      "Processing Record 48 of Set 6 | la macarena\n",
      "Processing Record 49 of Set 6 | lufilufi\n",
      "Processing Record 50 of Set 6 | kahna nau\n",
      "Processing Record 51 of Set 6 | elizabeth city\n",
      "Processing Record 1 of Set 7 | glyadyanskoye\n",
      "Processing Record 2 of Set 7 | zlatoust\n",
      "Processing Record 3 of Set 7 | acapulco\n",
      "Processing Record 4 of Set 7 | havelock\n",
      "Processing Record 5 of Set 7 | rize\n",
      "Processing Record 6 of Set 7 | uchiza\n",
      "Processing Record 7 of Set 7 | lisov\n",
      "Processing Record 8 of Set 7 | banda aceh\n",
      "Processing Record 9 of Set 7 | yamada\n",
      "Processing Record 10 of Set 7 | kushiro\n",
      "Processing Record 11 of Set 7 | morbegno\n",
      "Processing Record 12 of Set 7 | nikolskoye\n",
      "Processing Record 13 of Set 7 | martinopolis\n",
      "Processing Record 14 of Set 7 | torrington\n",
      "City not found. Skipping...\n",
      "Processing Record 15 of Set 7 | torbay\n",
      "Processing Record 16 of Set 7 | adrian\n",
      "Processing Record 17 of Set 7 | kavieng\n",
      "Processing Record 18 of Set 7 | rameswaram\n",
      "Processing Record 19 of Set 7 | kakonko\n",
      "Processing Record 20 of Set 7 | szubin\n",
      "Processing Record 21 of Set 7 | ribeira grande\n",
      "Processing Record 22 of Set 7 | noumea\n",
      "Processing Record 23 of Set 7 | carutapera\n",
      "Processing Record 24 of Set 7 | jalalpur pirwala\n",
      "Processing Record 25 of Set 7 | sao pedro do sul\n",
      "Processing Record 26 of Set 7 | udobnaya\n",
      "Processing Record 27 of Set 7 | gewane\n",
      "Processing Record 28 of Set 7 | bucak\n",
      "Processing Record 29 of Set 7 | bosaso\n",
      "Processing Record 30 of Set 7 | marrakesh\n",
      "Processing Record 31 of Set 7 | bykovo\n",
      "Processing Record 32 of Set 7 | erenhot\n",
      "Processing Record 33 of Set 7 | torres\n",
      "Processing Record 34 of Set 7 | asuncion\n",
      "City not found. Skipping...\n",
      "Processing Record 35 of Set 7 | coquimbo\n",
      "Processing Record 36 of Set 7 | darnah\n",
      "Processing Record 37 of Set 7 | shudayag\n",
      "Processing Record 38 of Set 7 | carlsbad\n",
      "Processing Record 39 of Set 7 | cabedelo\n",
      "Processing Record 40 of Set 7 | longyearbyen\n",
      "Processing Record 41 of Set 7 | metro\n",
      "Processing Record 42 of Set 7 | seoul\n",
      "Processing Record 43 of Set 7 | pisco\n",
      "City not found. Skipping...\n",
      "City not found. Skipping...\n",
      "Processing Record 44 of Set 7 | khryashchevka\n",
      "Processing Record 45 of Set 7 | iranshahr\n",
      "Processing Record 46 of Set 7 | ogaminana\n",
      "Processing Record 47 of Set 7 | gwadar\n",
      "Processing Record 48 of Set 7 | mareeba\n",
      "Processing Record 49 of Set 7 | roma\n",
      "Processing Record 50 of Set 7 | punta umbria\n",
      "Processing Record 51 of Set 7 | bonavista\n",
      "Processing Record 1 of Set 8 | nayoro\n",
      "Processing Record 2 of Set 8 | inhambane\n",
      "Processing Record 3 of Set 8 | brae\n",
      "Processing Record 4 of Set 8 | melo\n",
      "Processing Record 5 of Set 8 | ewa beach\n",
      "Processing Record 6 of Set 8 | rafraf\n",
      "Processing Record 7 of Set 8 | bumba\n",
      "Processing Record 8 of Set 8 | wewak\n",
      "Processing Record 9 of Set 8 | lund\n",
      "Processing Record 10 of Set 8 | eskhar\n",
      "Processing Record 11 of Set 8 | hohhot\n",
      "Processing Record 12 of Set 8 | albion\n",
      "Processing Record 13 of Set 8 | caravelas\n",
      "Processing Record 14 of Set 8 | sasaram\n",
      "Processing Record 15 of Set 8 | uthal\n",
      "Processing Record 16 of Set 8 | bessonovka\n",
      "Processing Record 17 of Set 8 | nizhnyaya tavda\n",
      "City not found. Skipping...\n",
      "Processing Record 18 of Set 8 | chimore\n"
     ]
    },
    {
     "name": "stdout",
     "output_type": "stream",
     "text": [
      "Processing Record 19 of Set 8 | maragogi\n",
      "Processing Record 20 of Set 8 | stephenville\n",
      "Processing Record 21 of Set 8 | broome\n",
      "Processing Record 22 of Set 8 | san cristobal\n",
      "City not found. Skipping...\n",
      "Processing Record 23 of Set 8 | krasnovishersk\n",
      "Processing Record 24 of Set 8 | kurchum\n",
      "Processing Record 25 of Set 8 | soloneshnoye\n",
      "Processing Record 26 of Set 8 | izhma\n",
      "Processing Record 27 of Set 8 | skibbereen\n",
      "Processing Record 28 of Set 8 | council bluffs\n",
      "Processing Record 29 of Set 8 | lepe\n",
      "Processing Record 30 of Set 8 | ulaangom\n",
      "Processing Record 31 of Set 8 | ca mau\n",
      "Processing Record 32 of Set 8 | bogdanovich\n",
      "Processing Record 33 of Set 8 | villaviciosa\n",
      "Processing Record 34 of Set 8 | luganville\n",
      "Processing Record 35 of Set 8 | yarmouth\n",
      "Processing Record 36 of Set 8 | belyy yar\n",
      "Processing Record 37 of Set 8 | mendi\n",
      "Processing Record 38 of Set 8 | sola\n",
      "Processing Record 39 of Set 8 | amahai\n",
      "Processing Record 40 of Set 8 | nioro\n",
      "Processing Record 41 of Set 8 | rincon\n",
      "Processing Record 42 of Set 8 | marawi\n",
      "Processing Record 43 of Set 8 | kavaratti\n",
      "Processing Record 44 of Set 8 | port macquarie\n",
      "Processing Record 45 of Set 8 | yar-sale\n",
      "Processing Record 46 of Set 8 | hwange\n",
      "Processing Record 47 of Set 8 | antalaha\n",
      "Processing Record 48 of Set 8 | san vicente\n",
      "Processing Record 49 of Set 8 | goma\n",
      "Processing Record 50 of Set 8 | campbell river\n",
      "Processing Record 51 of Set 8 | pitimbu\n",
      "Processing Record 1 of Set 9 | pecos\n",
      "Processing Record 2 of Set 9 | moundsville\n",
      "Processing Record 3 of Set 9 | kalabo\n",
      "Processing Record 4 of Set 9 | pascagoula\n",
      "Processing Record 5 of Set 9 | olafsvik\n",
      "Processing Record 6 of Set 9 | nova olinda do norte\n",
      "Processing Record 7 of Set 9 | rey bouba\n",
      "Processing Record 8 of Set 9 | menongue\n",
      "Processing Record 9 of Set 9 | turukhansk\n",
      "Processing Record 10 of Set 9 | ketchikan\n",
      "Processing Record 11 of Set 9 | mursan\n",
      "Processing Record 12 of Set 9 | igarka\n",
      "Processing Record 13 of Set 9 | fare\n",
      "Processing Record 14 of Set 9 | les cayes\n",
      "Processing Record 15 of Set 9 | bartica\n",
      "Processing Record 16 of Set 9 | qingdao\n",
      "Processing Record 17 of Set 9 | el carmen\n",
      "Processing Record 18 of Set 9 | esmeralda\n",
      "Processing Record 19 of Set 9 | shivrajpur\n",
      "Processing Record 20 of Set 9 | ambon\n",
      "Processing Record 21 of Set 9 | half moon bay\n",
      "Processing Record 22 of Set 9 | deputatskiy\n",
      "Processing Record 23 of Set 9 | tyup\n",
      "Processing Record 24 of Set 9 | port augusta\n",
      "Processing Record 25 of Set 9 | statesville\n",
      "Processing Record 26 of Set 9 | estelle\n",
      "Processing Record 27 of Set 9 | shizunai\n",
      "Processing Record 28 of Set 9 | healdsburg\n",
      "Processing Record 29 of Set 9 | kenai\n",
      "Processing Record 30 of Set 9 | faanui\n",
      "Processing Record 31 of Set 9 | fortuna\n",
      "Processing Record 32 of Set 9 | atar\n",
      "Processing Record 33 of Set 9 | bereda\n",
      "Processing Record 34 of Set 9 | mao\n",
      "Processing Record 35 of Set 9 | waipawa\n",
      "Processing Record 36 of Set 9 | shenjiamen\n",
      "Processing Record 37 of Set 9 | port hueneme\n",
      "Processing Record 38 of Set 9 | benguela\n",
      "Processing Record 39 of Set 9 | ushtobe\n",
      "Processing Record 40 of Set 9 | staryy nadym\n",
      "Processing Record 41 of Set 9 | geraldton\n",
      "City not found. Skipping...\n",
      "Processing Record 42 of Set 9 | stornoway\n",
      "Processing Record 43 of Set 9 | usinsk\n",
      "Processing Record 44 of Set 9 | parakai\n",
      "Processing Record 45 of Set 9 | gorodets\n",
      "Processing Record 46 of Set 9 | mayumba\n",
      "Processing Record 47 of Set 9 | provideniya\n",
      "Processing Record 48 of Set 9 | howard springs\n",
      "Processing Record 49 of Set 9 | samarai\n",
      "Processing Record 50 of Set 9 | nome\n",
      "Processing Record 51 of Set 9 | leh\n",
      "Processing Record 1 of Set 10 | itabira\n",
      "Processing Record 2 of Set 10 | nanga eboko\n",
      "Processing Record 3 of Set 10 | aktau\n",
      "Processing Record 4 of Set 10 | chabahar\n",
      "Processing Record 5 of Set 10 | hukuntsi\n",
      "Processing Record 6 of Set 10 | zhigansk\n",
      "Processing Record 7 of Set 10 | kihei\n",
      "Processing Record 8 of Set 10 | yuanping\n",
      "Processing Record 9 of Set 10 | chengde\n",
      "Processing Record 10 of Set 10 | praia da vitoria\n",
      "Processing Record 11 of Set 10 | mount pleasant\n",
      "Processing Record 12 of Set 10 | vao\n",
      "Processing Record 13 of Set 10 | sampit\n",
      "Processing Record 14 of Set 10 | yakovlevka\n",
      "Processing Record 15 of Set 10 | severo-kurilsk\n",
      "Processing Record 16 of Set 10 | russkaya polyana\n",
      "Processing Record 17 of Set 10 | berlevag\n",
      "Processing Record 18 of Set 10 | brownwood\n",
      "Processing Record 19 of Set 10 | denpasar\n",
      "Processing Record 20 of Set 10 | quang ngai\n",
      "Processing Record 21 of Set 10 | chik\n",
      "Processing Record 22 of Set 10 | sao filipe\n",
      "City not found. Skipping...\n",
      "Processing Record 23 of Set 10 | dolores\n",
      "Processing Record 24 of Set 10 | provost\n",
      "Processing Record 25 of Set 10 | zavetnoye\n",
      "Processing Record 26 of Set 10 | tiznit\n",
      "Processing Record 27 of Set 10 | ambilobe\n",
      "Processing Record 28 of Set 10 | vila velha\n",
      "Processing Record 29 of Set 10 | koutsouras\n",
      "Processing Record 30 of Set 10 | lazaro cardenas\n",
      "Processing Record 31 of Set 10 | coihaique\n",
      "Processing Record 32 of Set 10 | linxia\n",
      "Processing Record 33 of Set 10 | nekhayevskiy\n",
      "Processing Record 34 of Set 10 | husavik\n",
      "Processing Record 35 of Set 10 | galatista\n",
      "Processing Record 36 of Set 10 | capim grosso\n",
      "Processing Record 37 of Set 10 | businga\n",
      "City not found. Skipping...\n",
      "Processing Record 38 of Set 10 | dunedin\n",
      "Processing Record 39 of Set 10 | soyo\n",
      "Processing Record 40 of Set 10 | morondava\n",
      "Processing Record 41 of Set 10 | kloulklubed\n",
      "Processing Record 42 of Set 10 | prince rupert\n",
      "Processing Record 43 of Set 10 | kamenka\n",
      "Processing Record 44 of Set 10 | lugovoy\n",
      "Processing Record 45 of Set 10 | pangai\n",
      "Processing Record 46 of Set 10 | vernon\n",
      "Processing Record 47 of Set 10 | kilindoni\n",
      "Processing Record 48 of Set 10 | maraba\n",
      "Processing Record 49 of Set 10 | verkh-usugli\n",
      "Processing Record 50 of Set 10 | socorro\n",
      "Processing Record 51 of Set 10 | adrar\n",
      "Processing Record 1 of Set 11 | cockburn town\n",
      "Processing Record 2 of Set 11 | port hawkesbury\n",
      "Processing Record 3 of Set 11 | chapais\n",
      "Processing Record 4 of Set 11 | samana\n",
      "Processing Record 5 of Set 11 | vieux-habitants\n",
      "Processing Record 6 of Set 11 | dawei\n",
      "Processing Record 7 of Set 11 | freeport\n",
      "Processing Record 8 of Set 11 | hami\n",
      "Processing Record 9 of Set 11 | varadero\n",
      "Processing Record 10 of Set 11 | gornopravdinsk\n",
      "Processing Record 11 of Set 11 | paita\n",
      "Processing Record 12 of Set 11 | huarmey\n",
      "Processing Record 13 of Set 11 | kimbe\n",
      "Processing Record 14 of Set 11 | cravo norte\n",
      "Processing Record 15 of Set 11 | datong\n",
      "Processing Record 16 of Set 11 | ayagoz\n",
      "Processing Record 17 of Set 11 | torbat-e jam\n",
      "Processing Record 18 of Set 11 | fukue\n",
      "Processing Record 19 of Set 11 | iqaluit\n",
      "City not found. Skipping...\n",
      "Processing Record 20 of Set 11 | asau\n",
      "Processing Record 21 of Set 11 | katesh\n",
      "Processing Record 22 of Set 11 | caraballeda\n",
      "Processing Record 23 of Set 11 | burnie\n",
      "Processing Record 24 of Set 11 | marsabit\n",
      "City not found. Skipping...\n",
      "Processing Record 25 of Set 11 | fairbanks\n",
      "Processing Record 26 of Set 11 | newport\n",
      "City not found. Skipping...\n",
      "Processing Record 27 of Set 11 | clyde river\n",
      "Processing Record 28 of Set 11 | bud\n",
      "Processing Record 29 of Set 11 | boone\n",
      "Processing Record 30 of Set 11 | paamiut\n",
      "Processing Record 31 of Set 11 | la serena\n",
      "Processing Record 32 of Set 11 | miandrivazo\n",
      "Processing Record 33 of Set 11 | belgrade\n",
      "City not found. Skipping...\n",
      "Processing Record 34 of Set 11 | samarina\n",
      "Processing Record 35 of Set 11 | arkhipo-osipovka\n",
      "Processing Record 36 of Set 11 | storslett\n",
      "Processing Record 37 of Set 11 | ocos\n",
      "Processing Record 38 of Set 11 | pochutla\n",
      "Processing Record 39 of Set 11 | charagua\n",
      "Processing Record 40 of Set 11 | bilma\n",
      "Processing Record 41 of Set 11 | pathein\n",
      "Processing Record 42 of Set 11 | klaksvik\n",
      "Processing Record 43 of Set 11 | beyneu\n",
      "Processing Record 44 of Set 11 | algiers\n",
      "Processing Record 45 of Set 11 | peniche\n",
      "Processing Record 46 of Set 11 | sorkjosen\n",
      "Processing Record 47 of Set 11 | baghdad\n",
      "Processing Record 48 of Set 11 | ondjiva\n",
      "Processing Record 49 of Set 11 | taksimo\n",
      "Processing Record 50 of Set 11 | soe\n",
      "Processing Record 51 of Set 11 | sistranda\n",
      "City not found. Skipping...\n",
      "Processing Record 1 of Set 12 | teya\n",
      "Processing Record 2 of Set 12 | ati\n",
      "Processing Record 3 of Set 12 | san carlos\n",
      "Processing Record 4 of Set 12 | ruwi\n",
      "Processing Record 5 of Set 12 | lewistown\n"
     ]
    },
    {
     "name": "stdout",
     "output_type": "stream",
     "text": [
      "Processing Record 6 of Set 12 | bria\n",
      "Processing Record 7 of Set 12 | victor harbor\n",
      "Processing Record 8 of Set 12 | andenes\n",
      "Processing Record 9 of Set 12 | vanavara\n",
      "Processing Record 10 of Set 12 | limbang\n",
      "------------------------------\n",
      "Data Retrieval Complete\n",
      "-----------------------------\n",
      "\n"
     ]
    }
   ],
   "source": [
    "# Url\n",
    "base_url = \"http://api.openweathermap.org/data/2.5/weather?\"\n",
    "\n",
    "city_two = []\n",
    "cloudinesses = []\n",
    "dates = []\n",
    "humidities = []\n",
    "lats = []\n",
    "lngs = []\n",
    "max_temps = []\n",
    "wind_speeds = []\n",
    "countries = []\n",
    "\n",
    "# Set initial count quantities for organization\n",
    "count_one = 0\n",
    "set_one = 1\n",
    "\n",
    "# loops for creating dataframe columns\n",
    "for city in cities:\n",
    "    try:\n",
    "        \n",
    "        query_url = base_url + \"appid=\" + weather_api_key + \"&q=\" + city\n",
    "        response = requests.get(query_url).json()\n",
    "                \n",
    "        cloudinesses.append(response['clouds']['all'])\n",
    "        countries.append(response['sys']['country'])\n",
    "        dates.append(response['dt'])\n",
    "        humidities.append(response['main']['humidity'])\n",
    "        lats.append(response['coord']['lat'])\n",
    "        lngs.append(response['coord']['lon'])\n",
    "        max_temps.append(response['main']['temp_max'])\n",
    "        wind_speeds.append(response['wind']['speed'])\n",
    "        if count_one > 50:\n",
    "            count_one = 1\n",
    "            set_one += 1\n",
    "            city_two.append(city)\n",
    "           \n",
    "        else:\n",
    "            count_one += 1\n",
    "            city_two.append(city)\n",
    "            \n",
    "        print(f\"Processing Record {count_one} of Set {set_one} | {city}\")\n",
    "    except Exception:\n",
    "        print(\"City not found. Skipping...\")\n",
    "print(\"------------------------------\\n\"\n",
    "        f\"Data Retrieval Complete\\n\"\n",
    "        f\"-----------------------------\\n\")    "
   ]
  },
  {
   "cell_type": "markdown",
   "metadata": {},
   "source": [
    "### Convert Raw Data to DataFrame\n",
    "* Export the city data into a .csv.\n",
    "* Display the DataFrame"
   ]
  },
  {
   "cell_type": "code",
   "execution_count": 4,
   "metadata": {},
   "outputs": [],
   "source": [
    "weather_dict = {\n",
    "    \"City\":city_two,\n",
    "    \"Cloudiness\":cloudinesses,\n",
    "    \"Country\":countries,\n",
    "    \"Date\":dates,\n",
    "    \"Humidity\":humidities,\n",
    "    \"Lat\":lats,\n",
    "    \"Lng\":lngs,\n",
    "    \"Max Temp\":max_temps,\n",
    "    \"Wind Speed\":wind_speeds\n",
    "}"
   ]
  },
  {
   "cell_type": "code",
   "execution_count": 5,
   "metadata": {
    "scrolled": true
   },
   "outputs": [],
   "source": [
    "# establish dataframe\n",
    "weather_dataframe = pd.DataFrame(weather_dict)"
   ]
  },
  {
   "cell_type": "code",
   "execution_count": 6,
   "metadata": {},
   "outputs": [
    {
     "data": {
      "text/html": [
       "<div>\n",
       "<style scoped>\n",
       "    .dataframe tbody tr th:only-of-type {\n",
       "        vertical-align: middle;\n",
       "    }\n",
       "\n",
       "    .dataframe tbody tr th {\n",
       "        vertical-align: top;\n",
       "    }\n",
       "\n",
       "    .dataframe thead th {\n",
       "        text-align: right;\n",
       "    }\n",
       "</style>\n",
       "<table border=\"1\" class=\"dataframe\">\n",
       "  <thead>\n",
       "    <tr style=\"text-align: right;\">\n",
       "      <th></th>\n",
       "      <th>City</th>\n",
       "      <th>Cloudiness</th>\n",
       "      <th>Country</th>\n",
       "      <th>Date</th>\n",
       "      <th>Humidity</th>\n",
       "      <th>Lat</th>\n",
       "      <th>Lng</th>\n",
       "      <th>Max Temp</th>\n",
       "      <th>Wind Speed</th>\n",
       "    </tr>\n",
       "  </thead>\n",
       "  <tbody>\n",
       "    <tr>\n",
       "      <th>0</th>\n",
       "      <td>bredasdorp</td>\n",
       "      <td>10</td>\n",
       "      <td>ZA</td>\n",
       "      <td>1650909345</td>\n",
       "      <td>72</td>\n",
       "      <td>-34.5322</td>\n",
       "      <td>20.0403</td>\n",
       "      <td>286.59</td>\n",
       "      <td>1.58</td>\n",
       "    </tr>\n",
       "    <tr>\n",
       "      <th>1</th>\n",
       "      <td>jamestown</td>\n",
       "      <td>98</td>\n",
       "      <td>US</td>\n",
       "      <td>1650909424</td>\n",
       "      <td>10</td>\n",
       "      <td>42.0970</td>\n",
       "      <td>-79.2353</td>\n",
       "      <td>297.69</td>\n",
       "      <td>6.86</td>\n",
       "    </tr>\n",
       "    <tr>\n",
       "      <th>2</th>\n",
       "      <td>talnakh</td>\n",
       "      <td>94</td>\n",
       "      <td>RU</td>\n",
       "      <td>1650909521</td>\n",
       "      <td>97</td>\n",
       "      <td>69.4865</td>\n",
       "      <td>88.3972</td>\n",
       "      <td>254.93</td>\n",
       "      <td>1.81</td>\n",
       "    </tr>\n",
       "    <tr>\n",
       "      <th>3</th>\n",
       "      <td>east london</td>\n",
       "      <td>0</td>\n",
       "      <td>ZA</td>\n",
       "      <td>1650909521</td>\n",
       "      <td>88</td>\n",
       "      <td>-33.0153</td>\n",
       "      <td>27.9116</td>\n",
       "      <td>287.67</td>\n",
       "      <td>4.12</td>\n",
       "    </tr>\n",
       "    <tr>\n",
       "      <th>4</th>\n",
       "      <td>alexandria</td>\n",
       "      <td>0</td>\n",
       "      <td>EG</td>\n",
       "      <td>1650909522</td>\n",
       "      <td>64</td>\n",
       "      <td>31.2156</td>\n",
       "      <td>29.9553</td>\n",
       "      <td>294.13</td>\n",
       "      <td>5.14</td>\n",
       "    </tr>\n",
       "  </tbody>\n",
       "</table>\n",
       "</div>"
      ],
      "text/plain": [
       "          City  Cloudiness Country        Date  Humidity      Lat      Lng  \\\n",
       "0   bredasdorp          10      ZA  1650909345        72 -34.5322  20.0403   \n",
       "1    jamestown          98      US  1650909424        10  42.0970 -79.2353   \n",
       "2      talnakh          94      RU  1650909521        97  69.4865  88.3972   \n",
       "3  east london           0      ZA  1650909521        88 -33.0153  27.9116   \n",
       "4   alexandria           0      EG  1650909522        64  31.2156  29.9553   \n",
       "\n",
       "   Max Temp  Wind Speed  \n",
       "0    286.59        1.58  \n",
       "1    297.69        6.86  \n",
       "2    254.93        1.81  \n",
       "3    287.67        4.12  \n",
       "4    294.13        5.14  "
      ]
     },
     "execution_count": 6,
     "metadata": {},
     "output_type": "execute_result"
    }
   ],
   "source": [
    "# show the top of the dataframe\n",
    "weather_dataframe.head()"
   ]
  },
  {
   "cell_type": "code",
   "execution_count": 7,
   "metadata": {},
   "outputs": [
    {
     "data": {
      "text/plain": [
       "City          571\n",
       "Cloudiness    571\n",
       "Country       571\n",
       "Date          571\n",
       "Humidity      571\n",
       "Lat           571\n",
       "Lng           571\n",
       "Max Temp      571\n",
       "Wind Speed    571\n",
       "dtype: int64"
      ]
     },
     "execution_count": 7,
     "metadata": {},
     "output_type": "execute_result"
    }
   ],
   "source": [
    "weather_dataframe.count()"
   ]
  },
  {
   "cell_type": "code",
   "execution_count": 8,
   "metadata": {},
   "outputs": [],
   "source": [
    "# output data to csv\n",
    "weather_dataframe.to_csv(\"weather_df.csv\")"
   ]
  },
  {
   "cell_type": "code",
   "execution_count": 9,
   "metadata": {},
   "outputs": [
    {
     "data": {
      "text/html": [
       "<div>\n",
       "<style scoped>\n",
       "    .dataframe tbody tr th:only-of-type {\n",
       "        vertical-align: middle;\n",
       "    }\n",
       "\n",
       "    .dataframe tbody tr th {\n",
       "        vertical-align: top;\n",
       "    }\n",
       "\n",
       "    .dataframe thead th {\n",
       "        text-align: right;\n",
       "    }\n",
       "</style>\n",
       "<table border=\"1\" class=\"dataframe\">\n",
       "  <thead>\n",
       "    <tr style=\"text-align: right;\">\n",
       "      <th></th>\n",
       "      <th>City</th>\n",
       "      <th>Cloudiness</th>\n",
       "      <th>Country</th>\n",
       "      <th>Date</th>\n",
       "      <th>Humidity</th>\n",
       "      <th>Lat</th>\n",
       "      <th>Lng</th>\n",
       "      <th>Max Temp</th>\n",
       "      <th>Wind Speed</th>\n",
       "    </tr>\n",
       "  </thead>\n",
       "  <tbody>\n",
       "    <tr>\n",
       "      <th>0</th>\n",
       "      <td>bredasdorp</td>\n",
       "      <td>10</td>\n",
       "      <td>ZA</td>\n",
       "      <td>1650909345</td>\n",
       "      <td>72</td>\n",
       "      <td>-34.5322</td>\n",
       "      <td>20.0403</td>\n",
       "      <td>286.59</td>\n",
       "      <td>1.58</td>\n",
       "    </tr>\n",
       "    <tr>\n",
       "      <th>1</th>\n",
       "      <td>jamestown</td>\n",
       "      <td>98</td>\n",
       "      <td>US</td>\n",
       "      <td>1650909424</td>\n",
       "      <td>10</td>\n",
       "      <td>42.0970</td>\n",
       "      <td>-79.2353</td>\n",
       "      <td>297.69</td>\n",
       "      <td>6.86</td>\n",
       "    </tr>\n",
       "    <tr>\n",
       "      <th>2</th>\n",
       "      <td>talnakh</td>\n",
       "      <td>94</td>\n",
       "      <td>RU</td>\n",
       "      <td>1650909521</td>\n",
       "      <td>97</td>\n",
       "      <td>69.4865</td>\n",
       "      <td>88.3972</td>\n",
       "      <td>254.93</td>\n",
       "      <td>1.81</td>\n",
       "    </tr>\n",
       "    <tr>\n",
       "      <th>3</th>\n",
       "      <td>east london</td>\n",
       "      <td>0</td>\n",
       "      <td>ZA</td>\n",
       "      <td>1650909521</td>\n",
       "      <td>88</td>\n",
       "      <td>-33.0153</td>\n",
       "      <td>27.9116</td>\n",
       "      <td>287.67</td>\n",
       "      <td>4.12</td>\n",
       "    </tr>\n",
       "    <tr>\n",
       "      <th>4</th>\n",
       "      <td>alexandria</td>\n",
       "      <td>0</td>\n",
       "      <td>EG</td>\n",
       "      <td>1650909522</td>\n",
       "      <td>64</td>\n",
       "      <td>31.2156</td>\n",
       "      <td>29.9553</td>\n",
       "      <td>294.13</td>\n",
       "      <td>5.14</td>\n",
       "    </tr>\n",
       "  </tbody>\n",
       "</table>\n",
       "</div>"
      ],
      "text/plain": [
       "          City  Cloudiness Country        Date  Humidity      Lat      Lng  \\\n",
       "0   bredasdorp          10      ZA  1650909345        72 -34.5322  20.0403   \n",
       "1    jamestown          98      US  1650909424        10  42.0970 -79.2353   \n",
       "2      talnakh          94      RU  1650909521        97  69.4865  88.3972   \n",
       "3  east london           0      ZA  1650909521        88 -33.0153  27.9116   \n",
       "4   alexandria           0      EG  1650909522        64  31.2156  29.9553   \n",
       "\n",
       "   Max Temp  Wind Speed  \n",
       "0    286.59        1.58  \n",
       "1    297.69        6.86  \n",
       "2    254.93        1.81  \n",
       "3    287.67        4.12  \n",
       "4    294.13        5.14  "
      ]
     },
     "execution_count": 9,
     "metadata": {},
     "output_type": "execute_result"
    }
   ],
   "source": [
    "weather = pd.read_csv(\"weather_df.csv\")\n",
    "weather_dataframe = pd.DataFrame(weather)\n",
    "del weather_dataframe[\"Unnamed: 0\"]\n",
    "weather_dataframe.head()"
   ]
  },
  {
   "cell_type": "code",
   "execution_count": 10,
   "metadata": {},
   "outputs": [
    {
     "data": {
      "text/html": [
       "<div>\n",
       "<style scoped>\n",
       "    .dataframe tbody tr th:only-of-type {\n",
       "        vertical-align: middle;\n",
       "    }\n",
       "\n",
       "    .dataframe tbody tr th {\n",
       "        vertical-align: top;\n",
       "    }\n",
       "\n",
       "    .dataframe thead th {\n",
       "        text-align: right;\n",
       "    }\n",
       "</style>\n",
       "<table border=\"1\" class=\"dataframe\">\n",
       "  <thead>\n",
       "    <tr style=\"text-align: right;\">\n",
       "      <th></th>\n",
       "      <th>Cloudiness</th>\n",
       "      <th>Date</th>\n",
       "      <th>Humidity</th>\n",
       "      <th>Lat</th>\n",
       "      <th>Lng</th>\n",
       "      <th>Max Temp</th>\n",
       "      <th>Wind Speed</th>\n",
       "    </tr>\n",
       "  </thead>\n",
       "  <tbody>\n",
       "    <tr>\n",
       "      <th>count</th>\n",
       "      <td>571.000000</td>\n",
       "      <td>5.710000e+02</td>\n",
       "      <td>571.000000</td>\n",
       "      <td>571.000000</td>\n",
       "      <td>571.000000</td>\n",
       "      <td>571.000000</td>\n",
       "      <td>571.000000</td>\n",
       "    </tr>\n",
       "    <tr>\n",
       "      <th>mean</th>\n",
       "      <td>59.488616</td>\n",
       "      <td>1.650910e+09</td>\n",
       "      <td>69.122592</td>\n",
       "      <td>21.251050</td>\n",
       "      <td>14.942793</td>\n",
       "      <td>289.995201</td>\n",
       "      <td>3.505394</td>\n",
       "    </tr>\n",
       "    <tr>\n",
       "      <th>std</th>\n",
       "      <td>37.975308</td>\n",
       "      <td>8.486800e+01</td>\n",
       "      <td>22.429281</td>\n",
       "      <td>32.899635</td>\n",
       "      <td>88.762046</td>\n",
       "      <td>11.883015</td>\n",
       "      <td>2.329829</td>\n",
       "    </tr>\n",
       "    <tr>\n",
       "      <th>min</th>\n",
       "      <td>0.000000</td>\n",
       "      <td>1.650909e+09</td>\n",
       "      <td>1.000000</td>\n",
       "      <td>-54.800000</td>\n",
       "      <td>-175.200000</td>\n",
       "      <td>250.110000</td>\n",
       "      <td>0.000000</td>\n",
       "    </tr>\n",
       "    <tr>\n",
       "      <th>25%</th>\n",
       "      <td>20.000000</td>\n",
       "      <td>1.650910e+09</td>\n",
       "      <td>57.000000</td>\n",
       "      <td>-6.155500</td>\n",
       "      <td>-64.365950</td>\n",
       "      <td>283.240000</td>\n",
       "      <td>1.710000</td>\n",
       "    </tr>\n",
       "    <tr>\n",
       "      <th>50%</th>\n",
       "      <td>72.000000</td>\n",
       "      <td>1.650910e+09</td>\n",
       "      <td>73.000000</td>\n",
       "      <td>27.600000</td>\n",
       "      <td>18.966700</td>\n",
       "      <td>291.860000</td>\n",
       "      <td>3.090000</td>\n",
       "    </tr>\n",
       "    <tr>\n",
       "      <th>75%</th>\n",
       "      <td>98.000000</td>\n",
       "      <td>1.650910e+09</td>\n",
       "      <td>86.000000</td>\n",
       "      <td>47.276400</td>\n",
       "      <td>86.216650</td>\n",
       "      <td>299.235000</td>\n",
       "      <td>4.730000</td>\n",
       "    </tr>\n",
       "    <tr>\n",
       "      <th>max</th>\n",
       "      <td>100.000000</td>\n",
       "      <td>1.650910e+09</td>\n",
       "      <td>100.000000</td>\n",
       "      <td>78.218600</td>\n",
       "      <td>179.316700</td>\n",
       "      <td>313.840000</td>\n",
       "      <td>13.200000</td>\n",
       "    </tr>\n",
       "  </tbody>\n",
       "</table>\n",
       "</div>"
      ],
      "text/plain": [
       "       Cloudiness          Date    Humidity         Lat         Lng  \\\n",
       "count  571.000000  5.710000e+02  571.000000  571.000000  571.000000   \n",
       "mean    59.488616  1.650910e+09   69.122592   21.251050   14.942793   \n",
       "std     37.975308  8.486800e+01   22.429281   32.899635   88.762046   \n",
       "min      0.000000  1.650909e+09    1.000000  -54.800000 -175.200000   \n",
       "25%     20.000000  1.650910e+09   57.000000   -6.155500  -64.365950   \n",
       "50%     72.000000  1.650910e+09   73.000000   27.600000   18.966700   \n",
       "75%     98.000000  1.650910e+09   86.000000   47.276400   86.216650   \n",
       "max    100.000000  1.650910e+09  100.000000   78.218600  179.316700   \n",
       "\n",
       "         Max Temp  Wind Speed  \n",
       "count  571.000000  571.000000  \n",
       "mean   289.995201    3.505394  \n",
       "std     11.883015    2.329829  \n",
       "min    250.110000    0.000000  \n",
       "25%    283.240000    1.710000  \n",
       "50%    291.860000    3.090000  \n",
       "75%    299.235000    4.730000  \n",
       "max    313.840000   13.200000  "
      ]
     },
     "execution_count": 10,
     "metadata": {},
     "output_type": "execute_result"
    }
   ],
   "source": [
    "weather_dataframe.describe()"
   ]
  },
  {
   "cell_type": "markdown",
   "metadata": {},
   "source": [
    "## Inspect the data and remove the cities where the humidity > 100%.\n",
    "----\n",
    "Skip this step if there are no cities that have humidity > 100%. "
   ]
  },
  {
   "cell_type": "code",
   "execution_count": 11,
   "metadata": {},
   "outputs": [
    {
     "data": {
      "text/plain": [
       "Int64Index([], dtype='int64')"
      ]
     },
     "execution_count": 11,
     "metadata": {},
     "output_type": "execute_result"
    }
   ],
   "source": [
    "city_humidity = weather_dataframe[(weather_dataframe[\"Humidity\"]> 100)].index\n",
    "city_humidity"
   ]
  },
  {
   "cell_type": "code",
   "execution_count": 12,
   "metadata": {},
   "outputs": [
    {
     "data": {
      "text/html": [
       "<div>\n",
       "<style scoped>\n",
       "    .dataframe tbody tr th:only-of-type {\n",
       "        vertical-align: middle;\n",
       "    }\n",
       "\n",
       "    .dataframe tbody tr th {\n",
       "        vertical-align: top;\n",
       "    }\n",
       "\n",
       "    .dataframe thead th {\n",
       "        text-align: right;\n",
       "    }\n",
       "</style>\n",
       "<table border=\"1\" class=\"dataframe\">\n",
       "  <thead>\n",
       "    <tr style=\"text-align: right;\">\n",
       "      <th></th>\n",
       "      <th>City</th>\n",
       "      <th>Cloudiness</th>\n",
       "      <th>Country</th>\n",
       "      <th>Date</th>\n",
       "      <th>Humidity</th>\n",
       "      <th>Lat</th>\n",
       "      <th>Lng</th>\n",
       "      <th>Max Temp</th>\n",
       "      <th>Wind Speed</th>\n",
       "    </tr>\n",
       "  </thead>\n",
       "  <tbody>\n",
       "    <tr>\n",
       "      <th>0</th>\n",
       "      <td>bredasdorp</td>\n",
       "      <td>10</td>\n",
       "      <td>ZA</td>\n",
       "      <td>1650909345</td>\n",
       "      <td>72</td>\n",
       "      <td>-34.5322</td>\n",
       "      <td>20.0403</td>\n",
       "      <td>286.59</td>\n",
       "      <td>1.58</td>\n",
       "    </tr>\n",
       "    <tr>\n",
       "      <th>1</th>\n",
       "      <td>jamestown</td>\n",
       "      <td>98</td>\n",
       "      <td>US</td>\n",
       "      <td>1650909424</td>\n",
       "      <td>10</td>\n",
       "      <td>42.0970</td>\n",
       "      <td>-79.2353</td>\n",
       "      <td>297.69</td>\n",
       "      <td>6.86</td>\n",
       "    </tr>\n",
       "    <tr>\n",
       "      <th>2</th>\n",
       "      <td>talnakh</td>\n",
       "      <td>94</td>\n",
       "      <td>RU</td>\n",
       "      <td>1650909521</td>\n",
       "      <td>97</td>\n",
       "      <td>69.4865</td>\n",
       "      <td>88.3972</td>\n",
       "      <td>254.93</td>\n",
       "      <td>1.81</td>\n",
       "    </tr>\n",
       "    <tr>\n",
       "      <th>3</th>\n",
       "      <td>east london</td>\n",
       "      <td>0</td>\n",
       "      <td>ZA</td>\n",
       "      <td>1650909521</td>\n",
       "      <td>88</td>\n",
       "      <td>-33.0153</td>\n",
       "      <td>27.9116</td>\n",
       "      <td>287.67</td>\n",
       "      <td>4.12</td>\n",
       "    </tr>\n",
       "    <tr>\n",
       "      <th>4</th>\n",
       "      <td>alexandria</td>\n",
       "      <td>0</td>\n",
       "      <td>EG</td>\n",
       "      <td>1650909522</td>\n",
       "      <td>64</td>\n",
       "      <td>31.2156</td>\n",
       "      <td>29.9553</td>\n",
       "      <td>294.13</td>\n",
       "      <td>5.14</td>\n",
       "    </tr>\n",
       "  </tbody>\n",
       "</table>\n",
       "</div>"
      ],
      "text/plain": [
       "          City  Cloudiness Country        Date  Humidity      Lat      Lng  \\\n",
       "0   bredasdorp          10      ZA  1650909345        72 -34.5322  20.0403   \n",
       "1    jamestown          98      US  1650909424        10  42.0970 -79.2353   \n",
       "2      talnakh          94      RU  1650909521        97  69.4865  88.3972   \n",
       "3  east london           0      ZA  1650909521        88 -33.0153  27.9116   \n",
       "4   alexandria           0      EG  1650909522        64  31.2156  29.9553   \n",
       "\n",
       "   Max Temp  Wind Speed  \n",
       "0    286.59        1.58  \n",
       "1    297.69        6.86  \n",
       "2    254.93        1.81  \n",
       "3    287.67        4.12  \n",
       "4    294.13        5.14  "
      ]
     },
     "execution_count": 12,
     "metadata": {},
     "output_type": "execute_result"
    }
   ],
   "source": [
    "city_humidity = weather_dataframe.groupby([\"Humidity\"]).head()\n",
    "city_humidity.head(5)"
   ]
  },
  {
   "cell_type": "code",
   "execution_count": 13,
   "metadata": {},
   "outputs": [
    {
     "data": {
      "text/html": [
       "<div>\n",
       "<style scoped>\n",
       "    .dataframe tbody tr th:only-of-type {\n",
       "        vertical-align: middle;\n",
       "    }\n",
       "\n",
       "    .dataframe tbody tr th {\n",
       "        vertical-align: top;\n",
       "    }\n",
       "\n",
       "    .dataframe thead th {\n",
       "        text-align: right;\n",
       "    }\n",
       "</style>\n",
       "<table border=\"1\" class=\"dataframe\">\n",
       "  <thead>\n",
       "    <tr style=\"text-align: right;\">\n",
       "      <th></th>\n",
       "      <th>City</th>\n",
       "      <th>Cloudiness</th>\n",
       "      <th>Country</th>\n",
       "      <th>Date</th>\n",
       "      <th>Humidity</th>\n",
       "      <th>Lat</th>\n",
       "      <th>Lng</th>\n",
       "      <th>Max Temp</th>\n",
       "      <th>Wind Speed</th>\n",
       "    </tr>\n",
       "  </thead>\n",
       "  <tbody>\n",
       "  </tbody>\n",
       "</table>\n",
       "</div>"
      ],
      "text/plain": [
       "Empty DataFrame\n",
       "Columns: [City, Cloudiness, Country, Date, Humidity, Lat, Lng, Max Temp, Wind Speed]\n",
       "Index: []"
      ]
     },
     "execution_count": 13,
     "metadata": {},
     "output_type": "execute_result"
    }
   ],
   "source": [
    "#  Get the indices of cities that have humidity over 100%.\n",
    "above_humidity = pd.DataFrame(city_humidity.loc[city_humidity['Humidity']>100,:])\n",
    "above_humidity.head(5)"
   ]
  },
  {
   "cell_type": "code",
   "execution_count": 14,
   "metadata": {},
   "outputs": [],
   "source": [
    "# Make a new DataFrame equal to the city data to drop all humidity outliers by index.\n",
    "# Passing \"inplace=False\" will make a copy of the city_data DataFrame, which we call \"clean_city_data\"."
   ]
  },
  {
   "cell_type": "markdown",
   "metadata": {},
   "source": [
    "## Plotting the Data\n",
    "* Use proper labeling of the plots using plot titles (including date of analysis) and axes labels.\n",
    "* Save the plotted figures as .pngs."
   ]
  },
  {
   "cell_type": "markdown",
   "metadata": {},
   "source": [
    "## Latitude vs. Temperature Plot"
   ]
  },
  {
   "cell_type": "code",
   "execution_count": 15,
   "metadata": {},
   "outputs": [
    {
     "data": {
      "image/png": "[encoded data removed]",
      "text/plain": [
       "<Figure size 432x288 with 1 Axes>"
      ]
     },
     "metadata": {
      "needs_background": "light"
     },
     "output_type": "display_data"
    },
    {
     "name": "stdout",
     "output_type": "stream",
     "text": [
      "Temperatures appear to drop with increasing latitudes.\n"
     ]
    }
   ],
   "source": [
    "plt.scatter(weather_dataframe[\"Lat\"],weather_dataframe[\"Max Temp\"],edgecolors=\"black\",facecolors=\"red\")\n",
    "plt.title(\"City Latitude vs. Max Temperature (4/24/22)\")\n",
    "plt.xlabel(\"Latitude\")\n",
    "plt.ylabel(\"Max Temperature (F)\")\n",
    "plt.grid (b=True,which=\"major\",axis=\"both\",linestyle=\"-\",color=\"black\")\n",
    "plt.savefig(\"output_data/fig1.png\")\n",
    "plt.show()\n",
    "print(\"Temperatures appear to drop with increasing latitudes.\")"
   ]
  },
  {
   "cell_type": "markdown",
   "metadata": {},
   "source": [
    "## Latitude vs. Humidity Plot"
   ]
  },
  {
   "cell_type": "code",
   "execution_count": 16,
   "metadata": {},
   "outputs": [
    {
     "data": {
      "image/png": "[encoded data removed]",
      "text/plain": [
       "<Figure size 432x288 with 1 Axes>"
      ]
     },
     "metadata": {
      "needs_background": "light"
     },
     "output_type": "display_data"
    },
    {
     "name": "stdout",
     "output_type": "stream",
     "text": [
      "Humidity inreases at higher latitudes.\n"
     ]
    }
   ],
   "source": [
    "plt.scatter(weather_dataframe[\"Lat\"],weather_dataframe[\"Humidity\"],edgecolors=\"black\",facecolors=\"purple\")\n",
    "plt.title(\"City Latitude vs. Humidity (4/24/22)\")\n",
    "plt.xlabel(\"Latitude\")\n",
    "plt.ylabel(\"Humidity (%)\")\n",
    "plt.ylim(15,105)\n",
    "plt.grid (b=True,which=\"major\",axis=\"both\",linestyle=\"-\",color=\"black\")\n",
    "plt.savefig(\"output_data/fig2.png\")\n",
    "plt.show()\n",
    "print(\"Humidity inreases at higher latitudes.\")"
   ]
  },
  {
   "cell_type": "markdown",
   "metadata": {},
   "source": [
    "## Latitude vs. Cloudiness Plot"
   ]
  },
  {
   "cell_type": "code",
   "execution_count": 17,
   "metadata": {},
   "outputs": [
    {
     "data": {
      "image/png": "[encoded data removed]",
      "text/plain": [
       "<Figure size 432x288 with 1 Axes>"
      ]
     },
     "metadata": {
      "needs_background": "light"
     },
     "output_type": "display_data"
    },
    {
     "name": "stdout",
     "output_type": "stream",
     "text": [
      "Cloudiness appears widely distributed across the varying latitudes.\n"
     ]
    }
   ],
   "source": [
    "plt.scatter(weather_dataframe[\"Lat\"],weather_dataframe[\"Cloudiness\"],edgecolors=\"black\",facecolors=\"green\")\n",
    "plt.title(\"City Latitude vs. Cloudiness (4/24/22)\")\n",
    "plt.xlabel(\"Latitude\")\n",
    "plt.ylabel(\"Cloudiness\")\n",
    "plt.grid (b=True,which=\"major\",axis=\"both\",linestyle=\"-\",color=\"black\")\n",
    "plt.savefig(\"output_data/fig3.png\")\n",
    "plt.show()\n",
    "print(\"Cloudiness appears widely distributed across the varying latitudes.\")"
   ]
  },
  {
   "cell_type": "markdown",
   "metadata": {},
   "source": [
    "## Latitude vs. Wind Speed Plot"
   ]
  },
  {
   "cell_type": "code",
   "execution_count": 18,
   "metadata": {},
   "outputs": [
    {
     "data": {
      "image/png": "[encoded data removed]",
      "text/plain": [
       "<Figure size 432x288 with 1 Axes>"
      ]
     },
     "metadata": {
      "needs_background": "light"
     },
     "output_type": "display_data"
    },
    {
     "name": "stdout",
     "output_type": "stream",
     "text": [
      "Wind speeds are widely ditributed at varying latitudes.\n"
     ]
    }
   ],
   "source": [
    "plt.scatter(weather_dataframe[\"Lat\"],weather_dataframe[\"Wind Speed\"],edgecolors=\"black\",facecolors=\"blue\")\n",
    "plt.title(\"City Latitude vs. Wind Speed (4/24/22)\")\n",
    "plt.xlabel(\"Latitude\")\n",
    "plt.ylabel(\"Wind Speed (mph)\")\n",
    "plt.ylim(-2,34)\n",
    "plt.grid (b=True,which=\"major\",axis=\"both\",linestyle=\"-\",color=\"black\")\n",
    "plt.savefig(\"output_data/fig4.png\")\n",
    "plt.show()\n",
    "print(\"Wind speeds are widely ditributed at varying latitudes.\")"
   ]
  },
  {
   "cell_type": "markdown",
   "metadata": {},
   "source": [
    "## Linear Regression"
   ]
  },
  {
   "cell_type": "code",
   "execution_count": 19,
   "metadata": {},
   "outputs": [],
   "source": [
    "northern_hemisphere = weather_dataframe.loc[pd.to_numeric(weather_dataframe[\"Lat\"]).astype(float) > 0, :]\n",
    "southern_hemisphere = weather_dataframe.loc[pd.to_numeric(weather_dataframe[\"Lat\"]).astype(float) < 0, :]"
   ]
  },
  {
   "cell_type": "markdown",
   "metadata": {},
   "source": [
    "####  Northern Hemisphere - Max Temp vs. Latitude Linear Regression"
   ]
  },
  {
   "cell_type": "code",
   "execution_count": 20,
   "metadata": {},
   "outputs": [
    {
     "name": "stdout",
     "output_type": "stream",
     "text": [
      "y = -0.59x + 311.37\n",
      "The r-squared is: -0.8641413534260856\n"
     ]
    },
    {
     "data": {
      "image/png": "[encoded data removed]",
      "text/plain": [
       "<Figure size 432x288 with 1 Axes>"
      ]
     },
     "metadata": {
      "needs_background": "light"
     },
     "output_type": "display_data"
    },
    {
     "name": "stdout",
     "output_type": "stream",
     "text": [
      "Temperatures in northern hemisphere decrease as latitude moves above zero.\n"
     ]
    }
   ],
   "source": [
    "x_values = pd.to_numeric(northern_hemisphere['Lat']).astype(float)\n",
    "y_values = pd.to_numeric(northern_hemisphere['Max Temp']).astype(float)\n",
    "(slope, intercept, rvalue, pvalue, stderr) = linregress(x_values, y_values)\n",
    "regress_values = x_values * slope + intercept\n",
    "\n",
    "# Create line equation string\n",
    "line_eq = \"y = \" + str(round(slope,2)) + \"x + \" + str(round(intercept,2))\n",
    "print(f\"{line_eq}\")\n",
    "\n",
    "# Create Plot\n",
    "plt.scatter(x_values,y_values)\n",
    "plt.plot(x_values,regress_values,\"r-\")\n",
    "\n",
    "# Label plot and annotate the line equation\n",
    "plt.xlabel('Latitude')\n",
    "plt.ylabel('Max Temp')\n",
    "plt.annotate(line_eq,(5,255),fontsize=14,color=\"red\")\n",
    "\n",
    "# Print r value\n",
    "print(f\"The r-squared is: {rvalue}\")\n",
    "\n",
    "# Show plot\n",
    "plt.show()\n",
    "print(\"Temperatures in northern hemisphere decrease as latitude moves above zero.\")"
   ]
  },
  {
   "cell_type": "markdown",
   "metadata": {},
   "source": [
    "####  Southern Hemisphere - Max Temp vs. Latitude Linear Regression"
   ]
  },
  {
   "cell_type": "code",
   "execution_count": 21,
   "metadata": {},
   "outputs": [
    {
     "name": "stdout",
     "output_type": "stream",
     "text": [
      "y = 0.35x + 301.96\n",
      "The r-squared is: 0.7315065474075324\n"
     ]
    },
    {
     "data": {
      "image/png": "[encoded data removed]",
      "text/plain": [
       "<Figure size 432x288 with 1 Axes>"
      ]
     },
     "metadata": {
      "needs_background": "light"
     },
     "output_type": "display_data"
    },
    {
     "name": "stdout",
     "output_type": "stream",
     "text": [
      "Temperatures in southern hemisphere increase as latitude moves closer zero.\n"
     ]
    }
   ],
   "source": [
    "x_values = pd.to_numeric(southern_hemisphere['Lat']).astype(float)\n",
    "y_values = pd.to_numeric(southern_hemisphere['Max Temp']).astype(float)\n",
    "(slope, intercept, rvalue, pvalue, stderr) = linregress(x_values, y_values)\n",
    "regress_values = x_values * slope + intercept\n",
    "\n",
    "# Create line equation string\n",
    "line_eq = \"y = \" + str(round(slope,2)) + \"x + \" + str(round(intercept,2))\n",
    "print(f\"{line_eq}\")\n",
    "\n",
    "# Create Plot\n",
    "plt.scatter(x_values,y_values)\n",
    "plt.plot(x_values,regress_values,\"r-\")\n",
    "\n",
    "# Label plot and annotate the line equation\n",
    "plt.xlabel('Latitude')\n",
    "plt.ylabel('Max Temp')\n",
    "plt.annotate(line_eq,(-48,278),fontsize=14,color=\"red\")\n",
    "\n",
    "# Print r value\n",
    "print(f\"The r-squared is: {rvalue}\")\n",
    "\n",
    "# Show plot\n",
    "plt.show()\n",
    "print(\"Temperatures in southern hemisphere increase as latitude moves closer zero.\")"
   ]
  },
  {
   "cell_type": "markdown",
   "metadata": {},
   "source": [
    "####  Northern Hemisphere - Humidity (%) vs. Latitude Linear Regression"
   ]
  },
  {
   "cell_type": "code",
   "execution_count": 22,
   "metadata": {},
   "outputs": [
    {
     "name": "stdout",
     "output_type": "stream",
     "text": [
      "y = 0.38x + 51.9\n",
      "The r-squared is: 0.3009684905183247\n"
     ]
    },
    {
     "data": {
      "image/png": "[encoded data removed]",
      "text/plain": [
       "<Figure size 432x288 with 1 Axes>"
      ]
     },
     "metadata": {
      "needs_background": "light"
     },
     "output_type": "display_data"
    },
    {
     "name": "stdout",
     "output_type": "stream",
     "text": [
      "Humidity increases in northern hemisphere as latitude moves above zero.\n"
     ]
    }
   ],
   "source": [
    "x_values = pd.to_numeric(northern_hemisphere['Lat']).astype(float)\n",
    "y_values = pd.to_numeric(northern_hemisphere['Humidity']).astype(float)\n",
    "(slope, intercept, rvalue, pvalue, stderr) = linregress(x_values, y_values)\n",
    "regress_values = x_values * slope + intercept\n",
    "\n",
    "# Create line equation string\n",
    "line_eq = \"y = \" + str(round(slope,2)) + \"x + \" + str(round(intercept,2))\n",
    "print(f\"{line_eq}\")\n",
    "\n",
    "# Create Plot\n",
    "plt.scatter(x_values,y_values)\n",
    "plt.plot(x_values,regress_values,\"r-\")\n",
    "\n",
    "# Label plot and annotate the line equation\n",
    "plt.xlabel('Latitude')\n",
    "plt.ylabel('Humidity')\n",
    "plt.annotate(line_eq,(40,10),fontsize=14,color=\"red\")\n",
    "\n",
    "# Print r value\n",
    "print(f\"The r-squared is: {rvalue}\")\n",
    "\n",
    "# Show plot\n",
    "plt.show()\n",
    "print(\"Humidity increases in northern hemisphere as latitude moves above zero.\")"
   ]
  },
  {
   "cell_type": "markdown",
   "metadata": {},
   "source": [
    "####  Southern Hemisphere - Humidity (%) vs. Latitude Linear Regression"
   ]
  },
  {
   "cell_type": "code",
   "execution_count": 23,
   "metadata": {},
   "outputs": [
    {
     "name": "stdout",
     "output_type": "stream",
     "text": [
      "y = 0.21x + 78.44\n",
      "The r-squared is: 0.16297293919838496\n"
     ]
    },
    {
     "data": {
      "image/png": "[encoded data removed]",
      "text/plain": [
       "<Figure size 432x288 with 1 Axes>"
      ]
     },
     "metadata": {
      "needs_background": "light"
     },
     "output_type": "display_data"
    },
    {
     "name": "stdout",
     "output_type": "stream",
     "text": [
      "Humidity appears similar in southern hemisphere as latitude moves toward zero.\n"
     ]
    }
   ],
   "source": [
    "x_values = pd.to_numeric(southern_hemisphere['Lat']).astype(float)\n",
    "y_values = pd.to_numeric(southern_hemisphere['Humidity']).astype(float)\n",
    "(slope, intercept, rvalue, pvalue, stderr) = linregress(x_values, y_values)\n",
    "regress_values = x_values * slope + intercept\n",
    "\n",
    "# Create line equation string\n",
    "line_eq = \"y = \" + str(round(slope,2)) + \"x + \" + str(round(intercept,2))\n",
    "print(f\"{line_eq}\")\n",
    "\n",
    "# Create Plot\n",
    "plt.scatter(x_values,y_values)\n",
    "plt.plot(x_values,regress_values,\"r-\")\n",
    "\n",
    "# Label plot and annotate the line equation\n",
    "plt.xlabel('Latitude')\n",
    "plt.ylabel('Humidity')\n",
    "plt.annotate(line_eq,(-55,50),fontsize=14,color=\"red\")\n",
    "\n",
    "# Print r value\n",
    "print(f\"The r-squared is: {rvalue}\")\n",
    "\n",
    "# Show plot\n",
    "plt.show()\n",
    "print(\"Humidity appears similar in southern hemisphere as latitude moves toward zero.\")"
   ]
  },
  {
   "cell_type": "markdown",
   "metadata": {},
   "source": [
    "####  Northern Hemisphere - Cloudiness (%) vs. Latitude Linear Regression"
   ]
  },
  {
   "cell_type": "code",
   "execution_count": 24,
   "metadata": {},
   "outputs": [
    {
     "name": "stdout",
     "output_type": "stream",
     "text": [
      "y = 0.62x + 34.27\n",
      "The r-squared is: 0.3078568429545453\n"
     ]
    },
    {
     "data": {
      "image/png": "[encoded data removed]",
      "text/plain": [
       "<Figure size 432x288 with 1 Axes>"
      ]
     },
     "metadata": {
      "needs_background": "light"
     },
     "output_type": "display_data"
    },
    {
     "name": "stdout",
     "output_type": "stream",
     "text": [
      "Cloudiness increases with higher latitudes in northern hemisphere.\n"
     ]
    }
   ],
   "source": [
    "x_values = pd.to_numeric(northern_hemisphere['Lat']).astype(float)\n",
    "y_values = pd.to_numeric(northern_hemisphere['Cloudiness']).astype(float)\n",
    "(slope, intercept, rvalue, pvalue, stderr) = linregress(x_values, y_values)\n",
    "regress_values = x_values * slope + intercept\n",
    "\n",
    "# Create line equation string\n",
    "line_eq = \"y = \" + str(round(slope,2)) + \"x + \" + str(round(intercept,2))\n",
    "print(f\"{line_eq}\")\n",
    "\n",
    "# Create Plot\n",
    "plt.scatter(x_values,y_values)\n",
    "plt.plot(x_values,regress_values,\"r-\")\n",
    "\n",
    "# Label plot and annotate the line equation\n",
    "plt.xlabel('Latitude')\n",
    "plt.ylabel('Cloudiness')\n",
    "plt.annotate(line_eq,(49,43),fontsize=14,color=\"red\")\n",
    "\n",
    "# Print r value\n",
    "print(f\"The r-squared is: {rvalue}\")\n",
    "\n",
    "# Show plot\n",
    "plt.show()\n",
    "print(\"Cloudiness increases with higher latitudes in northern hemisphere.\")"
   ]
  },
  {
   "cell_type": "markdown",
   "metadata": {},
   "source": [
    "####  Southern Hemisphere - Cloudiness (%) vs. Latitude Linear Regression"
   ]
  },
  {
   "cell_type": "code",
   "execution_count": 25,
   "metadata": {},
   "outputs": [
    {
     "name": "stdout",
     "output_type": "stream",
     "text": [
      "y = 0.57x + 71.87\n",
      "The r-squared is: 0.20951403640005392\n"
     ]
    },
    {
     "data": {
      "image/png": "[encoded data removed]",
      "text/plain": [
       "<Figure size 432x288 with 1 Axes>"
      ]
     },
     "metadata": {
      "needs_background": "light"
     },
     "output_type": "display_data"
    },
    {
     "name": "stdout",
     "output_type": "stream",
     "text": [
      "Cloudiness in the southern hemisphere decreases as latitude moves below zero.\n"
     ]
    }
   ],
   "source": [
    "x_values = pd.to_numeric(southern_hemisphere['Lat']).astype(float)\n",
    "y_values = pd.to_numeric(southern_hemisphere['Cloudiness']).astype(float)\n",
    "(slope, intercept, rvalue, pvalue, stderr) = linregress(x_values, y_values)\n",
    "regress_values = x_values * slope + intercept\n",
    "\n",
    "# Create line equation string\n",
    "line_eq = \"y = \" + str(round(slope,2)) + \"x + \" + str(round(intercept,2))\n",
    "print(f\"{line_eq}\")\n",
    "\n",
    "# Create Plot\n",
    "plt.scatter(x_values,y_values)\n",
    "plt.plot(x_values,regress_values,\"r-\")\n",
    "\n",
    "# Label plot and annotate the line equation\n",
    "plt.xlabel('Latitude')\n",
    "plt.ylabel('Cloudiness')\n",
    "plt.annotate(line_eq,(-55,60),fontsize=14,color=\"red\")\n",
    "\n",
    "# Print r value\n",
    "print(f\"The r-squared is: {rvalue}\")\n",
    "\n",
    "# Show plot\n",
    "plt.show()\n",
    "print(\"Cloudiness in the southern hemisphere decreases as latitude moves below zero.\")"
   ]
  },
  {
   "cell_type": "markdown",
   "metadata": {},
   "source": [
    "####  Northern Hemisphere - Wind Speed (mph) vs. Latitude Linear Regression"
   ]
  },
  {
   "cell_type": "code",
   "execution_count": 26,
   "metadata": {},
   "outputs": [
    {
     "name": "stdout",
     "output_type": "stream",
     "text": [
      "y = 0.0x + 3.43\n",
      "The r-squared is: 0.003562924554235129\n"
     ]
    },
    {
     "data": {
      "image/png": "[encoded data removed]",
      "text/plain": [
       "<Figure size 432x288 with 1 Axes>"
      ]
     },
     "metadata": {
      "needs_background": "light"
     },
     "output_type": "display_data"
    },
    {
     "name": "stdout",
     "output_type": "stream",
     "text": [
      "In northern hemisphere, wind speeds remains simiiar as latitude increases above zero.\n"
     ]
    }
   ],
   "source": [
    "x_values = pd.to_numeric(northern_hemisphere['Lat']).astype(float)\n",
    "y_values = pd.to_numeric(northern_hemisphere['Wind Speed']).astype(float)\n",
    "(slope, intercept, rvalue, pvalue, stderr) = linregress(x_values, y_values)\n",
    "regress_values = x_values * slope + intercept\n",
    "\n",
    "# Create line equation string\n",
    "line_eq = \"y = \" + str(round(slope,2)) + \"x + \" + str(round(intercept,2))\n",
    "print(f\"{line_eq}\")\n",
    "\n",
    "# Create Plot\n",
    "plt.scatter(x_values,y_values)\n",
    "plt.plot(x_values,regress_values,\"r-\")\n",
    "\n",
    "# Label plot and annotate the line equation\n",
    "plt.xlabel('Latitude')\n",
    "plt.ylabel('Wind Speed')\n",
    "plt.annotate(line_eq,(8,10),fontsize=14,color=\"red\")\n",
    "\n",
    "# Print r value\n",
    "print(f\"The r-squared is: {rvalue}\")\n",
    "\n",
    "# Show plot\n",
    "plt.show()\n",
    "print(\"In northern hemisphere, wind speeds remains simiiar as latitude increases above zero.\")"
   ]
  },
  {
   "cell_type": "markdown",
   "metadata": {},
   "source": [
    "####  Southern Hemisphere - Wind Speed (mph) vs. Latitude Linear Regression"
   ]
  },
  {
   "cell_type": "code",
   "execution_count": 27,
   "metadata": {},
   "outputs": [
    {
     "name": "stdout",
     "output_type": "stream",
     "text": [
      "y = -0.06x + 2.38\n",
      "The r-squared is: -0.32360494215998004\n"
     ]
    },
    {
     "data": {
      "image/png": "[encoded data removed]",
      "text/plain": [
       "<Figure size 432x288 with 1 Axes>"
      ]
     },
     "metadata": {
      "needs_background": "light"
     },
     "output_type": "display_data"
    },
    {
     "name": "stdout",
     "output_type": "stream",
     "text": [
      "The wind speeds lower in southern hemisphere as latitude move closer to zero.\n"
     ]
    }
   ],
   "source": [
    "x_values = pd.to_numeric(southern_hemisphere['Lat']).astype(float)\n",
    "y_values = pd.to_numeric(southern_hemisphere['Wind Speed']).astype(float)\n",
    "(slope, intercept, rvalue, pvalue, stderr) = linregress(x_values, y_values)\n",
    "regress_values = x_values * slope + intercept\n",
    "\n",
    "# Create line equation string\n",
    "line_eq = \"y = \" + str(round(slope,2)) + \"x + \" + str(round(intercept,2))\n",
    "print(f\"{line_eq}\")\n",
    "\n",
    "# Create Plot\n",
    "plt.scatter(x_values,y_values)\n",
    "plt.plot(x_values,regress_values,\"r-\")\n",
    "\n",
    "# Label plot and annotate the line equation\n",
    "plt.xlabel('Latitude')\n",
    "plt.ylabel('Wind Speed')\n",
    "plt.annotate(line_eq,(-30,14),fontsize=14,color=\"red\")\n",
    "\n",
    "# Print r value\n",
    "print(f\"The r-squared is: {rvalue}\")\n",
    "\n",
    "# Show plot\n",
    "plt.show()\n",
    "print(\"The wind speeds lower in southern hemisphere as latitude move closer to zero.\")"
   ]
  },
  {
   "cell_type": "code",
   "execution_count": null,
   "metadata": {},
   "outputs": [],
   "source": []
  },
  {
   "cell_type": "code",
   "execution_count": null,
   "metadata": {},
   "outputs": [],
   "source": []
  }
 ],
 "metadata": {
  "anaconda-cloud": {},
  "kernel_info": {
   "name": "python3"
  },
  "kernelspec": {
   "display_name": "Python 3 (ipykernel)",
   "language": "python",
   "name": "python3"
  },
  "language_info": {
   "codemirror_mode": {
    "name": "ipython",
    "version": 3
   },
   "file_extension": ".py",
   "mimetype": "text/x-python",
   "name": "python",
   "nbconvert_exporter": "python",
   "pygments_lexer": "ipython3",
   "version": "3.9.7"
  },
  "latex_envs": {
   "LaTeX_envs_menu_present": true,
   "autoclose": false,
   "autocomplete": true,
   "bibliofile": "biblio.bib",
   "cite_by": "apalike",
   "current_citInitial": 1,
   "eqLabelWithNumbers": true,
   "eqNumInitial": 1,
   "hotkeys": {
    "equation": "Ctrl-E",
    "itemize": "Ctrl-I"
   },
   "labels_anchors": false,
   "latex_user_defs": false,
   "report_style_numbering": false,
   "user_envs_cfg": false
  },
  "nteract": {
   "version": "0.12.3"
  }
 },
 "nbformat": 4,
 "nbformat_minor": 2
}
